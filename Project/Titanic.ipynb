{
 "cells": [
  {
   "cell_type": "markdown",
   "metadata": {},
   "source": [
    "# Titanic Survival Prediction"
   ]
  },
  {
   "cell_type": "markdown",
   "metadata": {},
   "source": [
    "## Importation des bibliothèques nécessaires"
   ]
  },
  {
   "cell_type": "code",
   "execution_count": 2,
   "metadata": {
    "tags": []
   },
   "outputs": [
    {
     "name": "stdout",
     "output_type": "stream",
     "text": [
      "WARNING:tensorflow:From C:\\Users\\Methery\\anaconda3\\Lib\\site-packages\\keras\\src\\losses.py:2976: The name tf.losses.sparse_softmax_cross_entropy is deprecated. Please use tf.compat.v1.losses.sparse_softmax_cross_entropy instead.\n",
      "\n"
     ]
    }
   ],
   "source": [
    "from sklearn.preprocessing import OneHotEncoder \n",
    "import matplotlib.pyplot as plt  \n",
    "import seaborn as sns  \n",
    "import pandas as pd \n",
    "import numpy as np  \n",
    "import warnings  \n",
    "import tensorflow as tf \n",
    "from tensorflow.keras.models import Sequential # Importe le module Sequential de TensorFlow Keras\n",
    "from tensorflow.keras.layers import Dense, Dropout # Importe les couches Dense et Dropout de TensorFlow Keras"
   ]
  },
  {
   "cell_type": "markdown",
   "metadata": {},
   "source": [
    "## 1) Data acquisition\n",
    "Download the data from this link : https://www.kaggle.com/c/titanic/data"
   ]
  },
  {
   "cell_type": "code",
   "execution_count": 4,
   "metadata": {
    "tags": []
   },
   "outputs": [
    {
     "data": {
      "text/html": [
       "<div>\n",
       "<style scoped>\n",
       "    .dataframe tbody tr th:only-of-type {\n",
       "        vertical-align: middle;\n",
       "    }\n",
       "\n",
       "    .dataframe tbody tr th {\n",
       "        vertical-align: top;\n",
       "    }\n",
       "\n",
       "    .dataframe thead th {\n",
       "        text-align: right;\n",
       "    }\n",
       "</style>\n",
       "<table border=\"1\" class=\"dataframe\">\n",
       "  <thead>\n",
       "    <tr style=\"text-align: right;\">\n",
       "      <th></th>\n",
       "      <th>PassengerId</th>\n",
       "      <th>Survived</th>\n",
       "      <th>Pclass</th>\n",
       "      <th>Name</th>\n",
       "      <th>Sex</th>\n",
       "      <th>Age</th>\n",
       "      <th>SibSp</th>\n",
       "      <th>Parch</th>\n",
       "      <th>Ticket</th>\n",
       "      <th>Fare</th>\n",
       "      <th>Cabin</th>\n",
       "      <th>Embarked</th>\n",
       "    </tr>\n",
       "  </thead>\n",
       "  <tbody>\n",
       "    <tr>\n",
       "      <th>0</th>\n",
       "      <td>1</td>\n",
       "      <td>0</td>\n",
       "      <td>3</td>\n",
       "      <td>Braund, Mr. Owen Harris</td>\n",
       "      <td>male</td>\n",
       "      <td>22.0</td>\n",
       "      <td>1</td>\n",
       "      <td>0</td>\n",
       "      <td>A/5 21171</td>\n",
       "      <td>7.2500</td>\n",
       "      <td>NaN</td>\n",
       "      <td>S</td>\n",
       "    </tr>\n",
       "    <tr>\n",
       "      <th>1</th>\n",
       "      <td>2</td>\n",
       "      <td>1</td>\n",
       "      <td>1</td>\n",
       "      <td>Cumings, Mrs. John Bradley (Florence Briggs Th...</td>\n",
       "      <td>female</td>\n",
       "      <td>38.0</td>\n",
       "      <td>1</td>\n",
       "      <td>0</td>\n",
       "      <td>PC 17599</td>\n",
       "      <td>71.2833</td>\n",
       "      <td>C85</td>\n",
       "      <td>C</td>\n",
       "    </tr>\n",
       "    <tr>\n",
       "      <th>2</th>\n",
       "      <td>3</td>\n",
       "      <td>1</td>\n",
       "      <td>3</td>\n",
       "      <td>Heikkinen, Miss. Laina</td>\n",
       "      <td>female</td>\n",
       "      <td>26.0</td>\n",
       "      <td>0</td>\n",
       "      <td>0</td>\n",
       "      <td>STON/O2. 3101282</td>\n",
       "      <td>7.9250</td>\n",
       "      <td>NaN</td>\n",
       "      <td>S</td>\n",
       "    </tr>\n",
       "    <tr>\n",
       "      <th>3</th>\n",
       "      <td>4</td>\n",
       "      <td>1</td>\n",
       "      <td>1</td>\n",
       "      <td>Futrelle, Mrs. Jacques Heath (Lily May Peel)</td>\n",
       "      <td>female</td>\n",
       "      <td>35.0</td>\n",
       "      <td>1</td>\n",
       "      <td>0</td>\n",
       "      <td>113803</td>\n",
       "      <td>53.1000</td>\n",
       "      <td>C123</td>\n",
       "      <td>S</td>\n",
       "    </tr>\n",
       "    <tr>\n",
       "      <th>4</th>\n",
       "      <td>5</td>\n",
       "      <td>0</td>\n",
       "      <td>3</td>\n",
       "      <td>Allen, Mr. William Henry</td>\n",
       "      <td>male</td>\n",
       "      <td>35.0</td>\n",
       "      <td>0</td>\n",
       "      <td>0</td>\n",
       "      <td>373450</td>\n",
       "      <td>8.0500</td>\n",
       "      <td>NaN</td>\n",
       "      <td>S</td>\n",
       "    </tr>\n",
       "  </tbody>\n",
       "</table>\n",
       "</div>"
      ],
      "text/plain": [
       "   PassengerId  Survived  Pclass  \\\n",
       "0            1         0       3   \n",
       "1            2         1       1   \n",
       "2            3         1       3   \n",
       "3            4         1       1   \n",
       "4            5         0       3   \n",
       "\n",
       "                                                Name     Sex   Age  SibSp  \\\n",
       "0                            Braund, Mr. Owen Harris    male  22.0      1   \n",
       "1  Cumings, Mrs. John Bradley (Florence Briggs Th...  female  38.0      1   \n",
       "2                             Heikkinen, Miss. Laina  female  26.0      0   \n",
       "3       Futrelle, Mrs. Jacques Heath (Lily May Peel)  female  35.0      1   \n",
       "4                           Allen, Mr. William Henry    male  35.0      0   \n",
       "\n",
       "   Parch            Ticket     Fare Cabin Embarked  \n",
       "0      0         A/5 21171   7.2500   NaN        S  \n",
       "1      0          PC 17599  71.2833   C85        C  \n",
       "2      0  STON/O2. 3101282   7.9250   NaN        S  \n",
       "3      0            113803  53.1000  C123        S  \n",
       "4      0            373450   8.0500   NaN        S  "
      ]
     },
     "execution_count": 4,
     "metadata": {},
     "output_type": "execute_result"
    }
   ],
   "source": [
    "# Charge le jeu de données d'entraînement 'train.csv' dans un DataFrame Pandas nommé 'df_train'\n",
    "df_train = pd.read_csv('data/titanic/train.csv')\n",
    "\n",
    "# Affiche les 5 premières lignes du DataFrame 'df_train' pour obtenir un aperçu des données\n",
    "df_train.head()"
   ]
  },
  {
   "cell_type": "markdown",
   "metadata": {},
   "source": [
    "**PassengerId:** Un identifiant unique pour chaque passager.\n",
    "\n",
    "**Survived:** Un indicateur sur le fait que le passager a survécu ou non au naufrage du Titanic (1 si le passager a survécu, 0 s'il est décédé).\n",
    "\n",
    "**Pclass:** La classe de voyage du passager, allant de 1 à 3, où 1 représente la classe la plus élevée et 3 représente la classe la plus basse.\n",
    "\n",
    "**Name:** Le nom complet du passager, y compris le nom de famille, le prénom et le titre.\n",
    "\n",
    "**Sex:** Le sexe du passager, soit \"male\" (masculin) soit \"female\" (féminin).\n",
    "\n",
    "**Age:** L'âge du passager en années.\n",
    "\n",
    "**SibSp:** Le nombre de frères, sœurs ou conjoints à bord du Titanic pour le passager.\n",
    "\n",
    "**Parch:** Le nombre de parents ou enfants à bord du Titanic pour le passager.\n",
    "\n",
    "**Ticket:** Le numéro de billet du passager.\n",
    "\n",
    "**Fare:** Le prix du billet du passager.\n",
    "\n",
    "**Cabin:** Le numéro de cabine du passager (s'il y en a un).\n",
    "\n",
    "**Embarked:** Le port d'embarquement du passager (C = Cherbourg, Q = Queenstown, S = Southampton)."
   ]
  },
  {
   "cell_type": "markdown",
   "metadata": {},
   "source": [
    "## 2) Data description\n",
    "Try to get the main information about the dataset"
   ]
  },
  {
   "cell_type": "code",
   "execution_count": 6,
   "metadata": {
    "tags": []
   },
   "outputs": [
    {
     "name": "stdout",
     "output_type": "stream",
     "text": [
      "<class 'pandas.core.frame.DataFrame'>\n",
      "RangeIndex: 891 entries, 0 to 890\n",
      "Data columns (total 12 columns):\n",
      " #   Column       Non-Null Count  Dtype  \n",
      "---  ------       --------------  -----  \n",
      " 0   PassengerId  891 non-null    int64  \n",
      " 1   Survived     891 non-null    int64  \n",
      " 2   Pclass       891 non-null    int64  \n",
      " 3   Name         891 non-null    object \n",
      " 4   Sex          891 non-null    object \n",
      " 5   Age          714 non-null    float64\n",
      " 6   SibSp        891 non-null    int64  \n",
      " 7   Parch        891 non-null    int64  \n",
      " 8   Ticket       891 non-null    object \n",
      " 9   Fare         891 non-null    float64\n",
      " 10  Cabin        204 non-null    object \n",
      " 11  Embarked     889 non-null    object \n",
      "dtypes: float64(2), int64(5), object(5)\n",
      "memory usage: 83.7+ KB\n"
     ]
    }
   ],
   "source": [
    "# Affichage des informations sur le jeu de données d'entraînement\n",
    "df_train.info()"
   ]
  },
  {
   "cell_type": "code",
   "execution_count": 8,
   "metadata": {
    "tags": []
   },
   "outputs": [
    {
     "data": {
      "text/html": [
       "<div>\n",
       "<style scoped>\n",
       "    .dataframe tbody tr th:only-of-type {\n",
       "        vertical-align: middle;\n",
       "    }\n",
       "\n",
       "    .dataframe tbody tr th {\n",
       "        vertical-align: top;\n",
       "    }\n",
       "\n",
       "    .dataframe thead th {\n",
       "        text-align: right;\n",
       "    }\n",
       "</style>\n",
       "<table border=\"1\" class=\"dataframe\">\n",
       "  <thead>\n",
       "    <tr style=\"text-align: right;\">\n",
       "      <th></th>\n",
       "      <th>PassengerId</th>\n",
       "      <th>Survived</th>\n",
       "      <th>Pclass</th>\n",
       "      <th>Age</th>\n",
       "      <th>SibSp</th>\n",
       "      <th>Parch</th>\n",
       "      <th>Fare</th>\n",
       "    </tr>\n",
       "  </thead>\n",
       "  <tbody>\n",
       "    <tr>\n",
       "      <th>count</th>\n",
       "      <td>891.000000</td>\n",
       "      <td>891.000000</td>\n",
       "      <td>891.000000</td>\n",
       "      <td>714.000000</td>\n",
       "      <td>891.000000</td>\n",
       "      <td>891.000000</td>\n",
       "      <td>891.000000</td>\n",
       "    </tr>\n",
       "    <tr>\n",
       "      <th>mean</th>\n",
       "      <td>446.000000</td>\n",
       "      <td>0.383838</td>\n",
       "      <td>2.308642</td>\n",
       "      <td>29.699118</td>\n",
       "      <td>0.523008</td>\n",
       "      <td>0.381594</td>\n",
       "      <td>32.204208</td>\n",
       "    </tr>\n",
       "    <tr>\n",
       "      <th>std</th>\n",
       "      <td>257.353842</td>\n",
       "      <td>0.486592</td>\n",
       "      <td>0.836071</td>\n",
       "      <td>14.526497</td>\n",
       "      <td>1.102743</td>\n",
       "      <td>0.806057</td>\n",
       "      <td>49.693429</td>\n",
       "    </tr>\n",
       "    <tr>\n",
       "      <th>min</th>\n",
       "      <td>1.000000</td>\n",
       "      <td>0.000000</td>\n",
       "      <td>1.000000</td>\n",
       "      <td>0.420000</td>\n",
       "      <td>0.000000</td>\n",
       "      <td>0.000000</td>\n",
       "      <td>0.000000</td>\n",
       "    </tr>\n",
       "    <tr>\n",
       "      <th>25%</th>\n",
       "      <td>223.500000</td>\n",
       "      <td>0.000000</td>\n",
       "      <td>2.000000</td>\n",
       "      <td>20.125000</td>\n",
       "      <td>0.000000</td>\n",
       "      <td>0.000000</td>\n",
       "      <td>7.910400</td>\n",
       "    </tr>\n",
       "    <tr>\n",
       "      <th>50%</th>\n",
       "      <td>446.000000</td>\n",
       "      <td>0.000000</td>\n",
       "      <td>3.000000</td>\n",
       "      <td>28.000000</td>\n",
       "      <td>0.000000</td>\n",
       "      <td>0.000000</td>\n",
       "      <td>14.454200</td>\n",
       "    </tr>\n",
       "    <tr>\n",
       "      <th>75%</th>\n",
       "      <td>668.500000</td>\n",
       "      <td>1.000000</td>\n",
       "      <td>3.000000</td>\n",
       "      <td>38.000000</td>\n",
       "      <td>1.000000</td>\n",
       "      <td>0.000000</td>\n",
       "      <td>31.000000</td>\n",
       "    </tr>\n",
       "    <tr>\n",
       "      <th>max</th>\n",
       "      <td>891.000000</td>\n",
       "      <td>1.000000</td>\n",
       "      <td>3.000000</td>\n",
       "      <td>80.000000</td>\n",
       "      <td>8.000000</td>\n",
       "      <td>6.000000</td>\n",
       "      <td>512.329200</td>\n",
       "    </tr>\n",
       "  </tbody>\n",
       "</table>\n",
       "</div>"
      ],
      "text/plain": [
       "       PassengerId    Survived      Pclass         Age       SibSp  \\\n",
       "count   891.000000  891.000000  891.000000  714.000000  891.000000   \n",
       "mean    446.000000    0.383838    2.308642   29.699118    0.523008   \n",
       "std     257.353842    0.486592    0.836071   14.526497    1.102743   \n",
       "min       1.000000    0.000000    1.000000    0.420000    0.000000   \n",
       "25%     223.500000    0.000000    2.000000   20.125000    0.000000   \n",
       "50%     446.000000    0.000000    3.000000   28.000000    0.000000   \n",
       "75%     668.500000    1.000000    3.000000   38.000000    1.000000   \n",
       "max     891.000000    1.000000    3.000000   80.000000    8.000000   \n",
       "\n",
       "            Parch        Fare  \n",
       "count  891.000000  891.000000  \n",
       "mean     0.381594   32.204208  \n",
       "std      0.806057   49.693429  \n",
       "min      0.000000    0.000000  \n",
       "25%      0.000000    7.910400  \n",
       "50%      0.000000   14.454200  \n",
       "75%      0.000000   31.000000  \n",
       "max      6.000000  512.329200  "
      ]
     },
     "execution_count": 8,
     "metadata": {},
     "output_type": "execute_result"
    }
   ],
   "source": [
    "# Affichage d'un résumé statistique du jeu de données d'entraînement\n",
    "df_train.describe()"
   ]
  },
  {
   "cell_type": "markdown",
   "metadata": {},
   "source": [
    "## 3) Exploratory data analysis\n",
    "For every data science project, the most important part is understanding the data.\n",
    "Exploratory data anaylysis is an analysis approach that identifies general patterns in the data. Try to learn as much as you can about the dataset :"
   ]
  },
  {
   "cell_type": "code",
   "execution_count": 10,
   "metadata": {
    "tags": []
   },
   "outputs": [],
   "source": [
    "# TO-DO : Separate the dataset to 2 dataset : one for numerical data and one for categorical data\n",
    "\n",
    "# Séparer l'ensemble de données en 2 ensembles de données : un pour les données numériques et un pour les données catégorielles.\n",
    "\n",
    "# Liste des variables numériques du jeu de données d'entraînement\n",
    "var_num = ['Age', 'Fare', 'SibSp', 'Parch']  \n",
    "\n",
    "# Extraire les variables numériques du DataFrame 'df_train' et les stocker dans 'df_num'\n",
    "df_num = df_train.loc[:, var_num]  \n",
    "\n",
    "# Supprimer les variables numériques du DataFrame 'df_train' et stocker le reste dans 'df_cat', ensemble des variables catégorielles\n",
    "df_cat = df_train.drop(var_num, axis=1)"
   ]
  },
  {
   "cell_type": "markdown",
   "metadata": {},
   "source": [
    "### 3.1 ) Distributions des variables numériques"
   ]
  },
  {
   "cell_type": "code",
   "execution_count": 12,
   "metadata": {
    "tags": []
   },
   "outputs": [
    {
     "data": {
      "text/plain": [
       "Text(0.5, 0.95, 'Histogramme des données numériques')"
      ]
     },
     "execution_count": 12,
     "metadata": {},
     "output_type": "execute_result"
    },
    {
     "data": {
      "image/png": "[encoded data removed]",
      "text/plain": [
       "<Figure size 1500x1000 with 4 Axes>"
      ]
     },
     "metadata": {},
     "output_type": "display_data"
    }
   ],
   "source": [
    "# TO-DO : Using matplotlib histograms, draw the distributions for numerical data\n",
    "\n",
    "# Visualisation des distributions des variables numériques\n",
    "\n",
    "# Affiche un histogramme des données numériques du DataFrame 'df_num', avec 20 classes d'intervalles\n",
    "df_num.hist(bins=20, figsize=(15, 10)) \n",
    "\n",
    "# Ajoute un titre à l'histogramme\n",
    "plt.suptitle(\"Histogramme des données numériques\", y=0.95, fontsize=20)  "
   ]
  },
  {
   "cell_type": "markdown",
   "metadata": {},
   "source": [
    "### 3.2 ) Matrice de corrélation"
   ]
  },
  {
   "cell_type": "code",
   "execution_count": 14,
   "metadata": {
    "tags": []
   },
   "outputs": [
    {
     "data": {
      "text/plain": [
       "<Axes: >"
      ]
     },
     "execution_count": 14,
     "metadata": {},
     "output_type": "execute_result"
    },
    {
     "data": {
      "image/png": "[encoded data removed]",
      "text/plain": [
       "<Figure size 640x480 with 2 Axes>"
      ]
     },
     "metadata": {},
     "output_type": "display_data"
    }
   ],
   "source": [
    "# TO-DO : Using seaborn, draw the heatmap for the correlation matrix and explain its role\n",
    "\n",
    "# Calcul de la matrice de corrélation des données numériques du DataFrame 'df_num'\n",
    "corr = df_num.corr()  \n",
    "\n",
    "# Crée une carte de chaleur de la matrice de corrélation, avec les valeurs annotées\n",
    "sns.heatmap(corr, annot=True)  "
   ]
  },
  {
   "cell_type": "markdown",
   "metadata": {},
   "source": [
    "### 3.3 ) Pivot table des variables numériques"
   ]
  },
  {
   "cell_type": "code",
   "execution_count": 16,
   "metadata": {
    "tags": []
   },
   "outputs": [
    {
     "name": "stdout",
     "output_type": "stream",
     "text": [
      "Calcule moyen de l'âge (Age) et du prix de billet (Fare) en fonction du statut de survie (Survived)\n",
      "                Age       Fare\n",
      "Survived                      \n",
      "0         30.626179  22.117887\n",
      "1         28.343690  48.395408\n",
      "\n",
      "Calcule du nombre de frères et soeurs et du nombre de parents en fonction du statut de survie (Survived)\n",
      "          Parch  SibSp\n",
      "Survived              \n",
      "0           549    549\n",
      "1           342    342\n"
     ]
    }
   ],
   "source": [
    "# TO-DO : \n",
    "    #Look up pivot tables in pandas and explain what they do\n",
    "    # draw them for the numerical variables with a mean aggrregation\n",
    "\n",
    "    \n",
    "# Créer un pivot table avec les valeurs de l'âge (Age) et du prix de billet (Fare)\n",
    "# en fonction du statut de survie (Survived). L'aggfunc=\"mean\" calcule la moyenne\n",
    "pivot_mean = pd.pivot_table(df_train, values=['Age', 'Fare'], index='Survived', aggfunc=\"mean\")\n",
    "print(\"Calcule moyen de l'âge (Age) et du prix de billet (Fare) en fonction du statut de survie (Survived)\")\n",
    "print(pivot_mean)\n",
    "print()\n",
    "\n",
    "# Crée un pivot table avec les valeurs du nombre de frères et soeurs (SibSp)\n",
    "# et du nombre de parents (Parch) en fonction du statut de survie (Survived).\n",
    "# L'aggfunc=\"count\" calcule le nombre d'occurrences\n",
    "pivot_count = pd.pivot_table(df_train, values=['SibSp', 'Parch'], index='Survived', aggfunc=\"count\")\n",
    "print(\"Calcule du nombre de frères et soeurs et du nombre de parents en fonction du statut de survie (Survived)\")\n",
    "print(pivot_count)"
   ]
  },
  {
   "cell_type": "markdown",
   "metadata": {},
   "source": [
    "## Moyen de l'âge (Age) et du prix du billet (Fare) en fonction du statut de survie (Survived):\n",
    "\n",
    "Les moyennes d'âge pour les personnes qui n'ont pas survécu (Survived = 0) et celles qui ont survécu (Survived = 1) sont respectivement d'environ 30.63 ans et 28.34 ans.\n",
    "En ce qui concerne le prix du billet, la moyenne pour les non-survivants est d'environ 22.12, tandis que pour les survivants, elle est nettement plus élevée, à environ 48.40.\n",
    "\n",
    "## Nombre de frères et sœurs (SibSp) et de parents (Parch) en fonction du statut de survie (Survived):\n",
    "\n",
    "Pour les non-survivants (Survived = 0), il y avait 549 personnes avec des parents (Parch) et 549 personnes avec des frères et sœurs (SibSp).\n",
    "Pour les survivants (Survived = 1), il y avait 342 personnes avec des parents et 342 personnes avec des frères et sœurs."
   ]
  },
  {
   "cell_type": "code",
   "execution_count": 18,
   "metadata": {
    "tags": []
   },
   "outputs": [
    {
     "data": {
      "image/png": "[encoded data removed]",
      "text/plain": [
       "<Figure size 600x300 with 2 Axes>"
      ]
     },
     "metadata": {},
     "output_type": "display_data"
    },
    {
     "data": {
      "image/png": "[encoded data removed]",
      "text/plain": [
       "<Figure size 600x300 with 2 Axes>"
      ]
     },
     "metadata": {},
     "output_type": "display_data"
    },
    {
     "data": {
      "image/png": "[encoded data removed]",
      "text/plain": [
       "<Figure size 600x300 with 2 Axes>"
      ]
     },
     "metadata": {},
     "output_type": "display_data"
    }
   ],
   "source": [
    "# TO-DO : Using sns barplot, draw the barplots for the categorical variables\n",
    "\n",
    "# Ignorer tous les avertissements de type FutureWarning et UserWarning.\n",
    "warnings.filterwarnings(\"ignore\", category=FutureWarning)\n",
    "warnings.filterwarnings(\"ignore\", category=UserWarning)\n",
    "\n",
    "#  La méthode .iteritems() est obsolète et a été supprimée. Cette ligne permet d'éviter le bug.\n",
    "pd.DataFrame.iteritems = pd.DataFrame.items\n",
    "\n",
    "# Les variables PassengerId, Name, Ticket et Cabin sont des variables descriptives, c'est-à-dire qu'elles ne fournissent \n",
    "# aucune information sur la probabilité de survie des passagers du Titanic.\n",
    "# Par conséquent, la représentation de ces variables est inutile, car elle ne fournit aucune information utile pour comprendre\n",
    "# les facteurs qui ont influencé la survie des passagers du Titanic.\n",
    "\n",
    "# Crée une liste des variables à visualiser\n",
    "variables = [x for x in list(df_cat.columns) if x not in [\"PassengerId\", \"Name\", \"Ticket\", \"Cabin\", \"Survived\"]]\n",
    "\n",
    "for variable in variables:\n",
    "    # Crée un FacetGrid avec la variable `Survived` comme variable de facette\n",
    "    g = sns.FacetGrid(df_cat, col=\"Survived\")\n",
    "    \n",
    "    # Trace un diagramme à barres pour la variable `variable`\n",
    "    g.map(sns.countplot, variable, palette=\"Set2\")\n",
    "\n",
    "    # Ajoute un titre au graphique\n",
    "    g.fig.suptitle(f\"Survivants et non-survivants du Titanic par {variable}\", y=1.05)\n",
    "    \n",
    "    # Affiche le graphique\n",
    "    plt.show()"
   ]
  },
  {
   "cell_type": "markdown",
   "metadata": {},
   "source": [
    "### 3.4 ) Pivot table des variables catégorielles"
   ]
  },
  {
   "cell_type": "code",
   "execution_count": 20,
   "metadata": {
    "tags": []
   },
   "outputs": [
    {
     "name": "stdout",
     "output_type": "stream",
     "text": [
      "Survivants et non-survivants du Titanic par Pclass\n",
      "Survived    0    1\n",
      "Pclass            \n",
      "1          80  136\n",
      "2          97   87\n",
      "3         372  119\n",
      "\n",
      "Survivants et non-survivants du Titanic par Sex\n",
      "Survived    0    1\n",
      "Sex               \n",
      "female     81  233\n",
      "male      468  109\n",
      "\n",
      "Survivants et non-survivants du Titanic par Embarked\n",
      "Survived    0    1\n",
      "Embarked          \n",
      "C          75   93\n",
      "Q          47   30\n",
      "S         427  217\n",
      "\n"
     ]
    }
   ],
   "source": [
    "# TO-DO : \n",
    "    # Create the pivot table for the categorical variables for which it makes sense\n",
    "    # Explain why it doesn not make sense for the others\n",
    "\n",
    "for variable in variables:\n",
    "    # Crée une table de contingence avec les valeurs de la variable et le statut de survie (Survived)\n",
    "    pivot_table = pd.crosstab(df_cat[variable], df_cat[\"Survived\"])\n",
    "    print(f\"Survivants et non-survivants du Titanic par {variable}\")\n",
    "    # Affiche la table de contingence\n",
    "    print(pivot_table)\n",
    "    print()"
   ]
  },
  {
   "cell_type": "markdown",
   "metadata": {},
   "source": [
    "- **Premier pivot table :**\n",
    "Cette pivot table montre la distribution de la classe sociale des passagers survivants et non survivants. On peut observer que les passagers de première classe avaient plus de chances de survivre que les passagers de deuxième classe, qui avaient eux-mêmes plus de chances de survivre que les passagers de troisième classe. Cette information suggère que la classe sociale était un facteur important de survie du naufrage du Titanic.\n",
    "- **Deuxieme Pivot table:**\n",
    "Cette distribution montre la distribution des suivivant et non-suivivants du Titanic par Sex. On remarque le nombre mort chez les femmes est inferieur au nombre de mort chez les hommes, celà explique les femmes etaient favorisées que les les hommes.\n",
    "\n",
    "- **Toisième pivot table :**\n",
    "Cette pivot table montre la distribution du port d'embarquement des passagers survivants et non survivants.\n",
    "On peut observer que les passagers qui ont embarqué à Cherbourg avaient plus de chances de survivre que \n",
    "les passagers qui ont embarqué à Southampton ou à Queenstown. Cette information suggère que le port d'embarquement était également un facteur important de survie du naufrage du Titanic."
   ]
  },
  {
   "cell_type": "code",
   "execution_count": 23,
   "metadata": {
    "tags": []
   },
   "outputs": [
    {
     "name": "stdout",
     "output_type": "stream",
     "text": [
      "Il y a 687 valeurs manquantes\n",
      "Il y a 148 valeurs uniques\n",
      "\n",
      "Cabin\n",
      "B96 B98        4\n",
      "G6             4\n",
      "C23 C25 C27    4\n",
      "C22 C26        3\n",
      "F33            3\n",
      "              ..\n",
      "E34            1\n",
      "C7             1\n",
      "C54            1\n",
      "E36            1\n",
      "C148           1\n",
      "Name: count, Length: 147, dtype: int64\n"
     ]
    }
   ],
   "source": [
    "# TO-DO : \n",
    "    # Explore the variable Cabin's values\n",
    "    # Can we use this variable directly? if not, how can we exploit it efficiently\n",
    "\n",
    "# Affiche le nombre de valeurs manquantes dans la variable Cabine\n",
    "print(f\"Il y a {df_cat['Cabin'].isnull().sum()} valeurs manquantes\")\n",
    "\n",
    "# Affiche le nombre de valeurs uniques de la variable Cabine\n",
    "print(f\"Il y a {len(df_cat['Cabin'].unique())} valeurs uniques\", end=\"\\n\\n\")\n",
    "    \n",
    "# Affiche la distribution des valeurs de la variable Cabine\n",
    "print(df_cat[\"Cabin\"].value_counts())"
   ]
  },
  {
   "cell_type": "markdown",
   "metadata": {},
   "source": [
    "**Exploration de la variable Cabine**\n",
    "\n",
    "La variable Cabine dans le jeu de données Titanic contient le numéro de cabine de chaque passager. Cependant, cette variable est très incomplète, avec 687 valeurs manquantes. Cela rend difficile l'utilisation directe de la variable Cabine pour l'analyse.\n",
    "\n",
    "Voici quelques-uns des défis liés à l'utilisation directe de la variable Cabine :\n",
    "\n",
    "* **Valeurs manquantes** : Comme mentionné ci-dessus, plus de 75 % des valeurs de la variable Cabine sont manquantes. Cela signifie que nous ne pouvons pas utiliser la variable pour toute analyse qui nécessite toutes les données.\n",
    "* **Données non structurées** : La variable Cabine est des données non structurées, ce qui signifie qu'elle n'est pas dans un format qui peut être facilement analysé par des algorithmes d'apprentissage automatique. Cela rend difficile l'extraction d'informations utiles des données.\n",
    "\n",
    "**Comment exploiter efficacement la variable Cabine**\n",
    "\n",
    "**Créer de nouvelles fonctionnalités** : Nous pouvons créer de nouvelles fonctionnalités à partir de la variable Cabine, telles que le niveau du pont, le nombre de lettres dans le numéro de cabine ou la présence de lettres spécifiques dans le numéro de cabine. Ces nouvelles fonctionnalités peuvent être plus utiles pour l'analyse que la variable Cabine d'origine."
   ]
  },
  {
   "cell_type": "markdown",
   "metadata": {},
   "source": [
    "## 4) Data Engineering\n",
    "When exploiting datasets, data engineering is an important preprocessing step. Its goal is to extract more information from the data so to increase the predictive power of the machine learning model.\n",
    "Identify some variables on which we can apply data engineering and explain what type of information can be extratced from them."
   ]
  },
  {
   "cell_type": "markdown",
   "metadata": {},
   "source": [
    "### 4.1 ) Création d'une nouvelle variable `Cabin_multiple`"
   ]
  },
  {
   "cell_type": "code",
   "execution_count": 25,
   "metadata": {
    "tags": []
   },
   "outputs": [
    {
     "data": {
      "text/plain": [
       "Cabin_multiple\n",
       "0    687\n",
       "1    180\n",
       "2     16\n",
       "3      6\n",
       "4      2\n",
       "Name: count, dtype: int64"
      ]
     },
     "execution_count": 25,
     "metadata": {},
     "output_type": "execute_result"
    }
   ],
   "source": [
    "# Here is an example of data engineering from the variable Cabin, we used it to create a new \n",
    "# variable called Cabin_multiple that contains the number of cabins per passenger.\n",
    "df_train['Cabin_multiple'] = df_train.Cabin.apply(lambda x : 0 if pd.isna(x) else len(x.split(' ')))\n",
    "df_train['Cabin_multiple'].value_counts()"
   ]
  },
  {
   "cell_type": "markdown",
   "metadata": {},
   "source": [
    "### 4.2 ) Création de la pivot table de la variable `Cabin_multiple`"
   ]
  },
  {
   "cell_type": "code",
   "execution_count": 27,
   "metadata": {
    "scrolled": true,
    "tags": []
   },
   "outputs": [
    {
     "name": "stdout",
     "output_type": "stream",
     "text": [
      "                Survived\n",
      "Cabin_multiple          \n",
      "0                    206\n",
      "1                    122\n",
      "2                      9\n",
      "3                      3\n",
      "4                      2\n"
     ]
    }
   ],
   "source": [
    "# TO-DO : Create the pivot table for the newly created attribute.\n",
    "# Créé une table pivot pour la variable Cabin_multiple\n",
    "pivot_table = df_train.pivot_table(values='Survived', index='Cabin_multiple', aggfunc=sum)\n",
    "print(pivot_table)"
   ]
  },
  {
   "cell_type": "markdown",
   "metadata": {},
   "source": [
    "Cette table pivot montre que les passagers qui occupaient une seule cabine avaient plus de chances de survivre que les passagers qui occupaient plusieurs cabines."
   ]
  },
  {
   "cell_type": "markdown",
   "metadata": {},
   "source": [
    "### 4.3 ) Création de nouvelles variables utiles"
   ]
  },
  {
   "cell_type": "code",
   "execution_count": 29,
   "metadata": {
    "tags": []
   },
   "outputs": [
    {
     "data": {
      "text/html": [
       "<div>\n",
       "<style scoped>\n",
       "    .dataframe tbody tr th:only-of-type {\n",
       "        vertical-align: middle;\n",
       "    }\n",
       "\n",
       "    .dataframe tbody tr th {\n",
       "        vertical-align: top;\n",
       "    }\n",
       "\n",
       "    .dataframe thead th {\n",
       "        text-align: right;\n",
       "    }\n",
       "</style>\n",
       "<table border=\"1\" class=\"dataframe\">\n",
       "  <thead>\n",
       "    <tr style=\"text-align: right;\">\n",
       "      <th></th>\n",
       "      <th>Survived</th>\n",
       "    </tr>\n",
       "    <tr>\n",
       "      <th>Family_size</th>\n",
       "      <th></th>\n",
       "    </tr>\n",
       "  </thead>\n",
       "  <tbody>\n",
       "    <tr>\n",
       "      <th>1</th>\n",
       "      <td>163</td>\n",
       "    </tr>\n",
       "    <tr>\n",
       "      <th>2</th>\n",
       "      <td>89</td>\n",
       "    </tr>\n",
       "    <tr>\n",
       "      <th>3</th>\n",
       "      <td>59</td>\n",
       "    </tr>\n",
       "    <tr>\n",
       "      <th>4</th>\n",
       "      <td>21</td>\n",
       "    </tr>\n",
       "    <tr>\n",
       "      <th>5</th>\n",
       "      <td>3</td>\n",
       "    </tr>\n",
       "    <tr>\n",
       "      <th>6</th>\n",
       "      <td>3</td>\n",
       "    </tr>\n",
       "    <tr>\n",
       "      <th>7</th>\n",
       "      <td>4</td>\n",
       "    </tr>\n",
       "    <tr>\n",
       "      <th>8</th>\n",
       "      <td>0</td>\n",
       "    </tr>\n",
       "    <tr>\n",
       "      <th>11</th>\n",
       "      <td>0</td>\n",
       "    </tr>\n",
       "  </tbody>\n",
       "</table>\n",
       "</div>"
      ],
      "text/plain": [
       "             Survived\n",
       "Family_size          \n",
       "1                 163\n",
       "2                  89\n",
       "3                  59\n",
       "4                  21\n",
       "5                   3\n",
       "6                   3\n",
       "7                   4\n",
       "8                   0\n",
       "11                  0"
      ]
     },
     "execution_count": 29,
     "metadata": {},
     "output_type": "execute_result"
    }
   ],
   "source": [
    "# TO-DO : Create the variables you think might be interesting then draw the pivot tables for the variables you create\n",
    "\n",
    "# Cette variable représente la taille de la famille du passager.On la calcule en additionnant le nombre de frères \n",
    "# et sœurs (SibSp) et le nombre de parents (Parch) du passager, auquel on ajoute 1 pour le passager lui-même.\n",
    "# Cette information peut être utile pour comprendre la priorité accordée aux passagers lors de l'évacuation du navire.\n",
    "df_train['Family_size'] = df_train.SibSp + df_train.Parch + 1\n",
    "\n",
    "# Créé une table pivot pour la variable Cabin_multiple\n",
    "pivot_table = df_train.pivot_table(values='Survived', index='Family_size', aggfunc=sum)\n",
    "pivot_table"
   ]
  },
  {
   "cell_type": "code",
   "execution_count": 31,
   "metadata": {
    "tags": []
   },
   "outputs": [
    {
     "data": {
      "text/html": [
       "<div>\n",
       "<style scoped>\n",
       "    .dataframe tbody tr th:only-of-type {\n",
       "        vertical-align: middle;\n",
       "    }\n",
       "\n",
       "    .dataframe tbody tr th {\n",
       "        vertical-align: top;\n",
       "    }\n",
       "\n",
       "    .dataframe thead th {\n",
       "        text-align: right;\n",
       "    }\n",
       "</style>\n",
       "<table border=\"1\" class=\"dataframe\">\n",
       "  <thead>\n",
       "    <tr style=\"text-align: right;\">\n",
       "      <th></th>\n",
       "      <th>Survived</th>\n",
       "    </tr>\n",
       "    <tr>\n",
       "      <th>Cabin_letter</th>\n",
       "      <th></th>\n",
       "    </tr>\n",
       "  </thead>\n",
       "  <tbody>\n",
       "    <tr>\n",
       "      <th>A</th>\n",
       "      <td>15</td>\n",
       "    </tr>\n",
       "    <tr>\n",
       "      <th>B</th>\n",
       "      <td>47</td>\n",
       "    </tr>\n",
       "    <tr>\n",
       "      <th>C</th>\n",
       "      <td>59</td>\n",
       "    </tr>\n",
       "    <tr>\n",
       "      <th>D</th>\n",
       "      <td>33</td>\n",
       "    </tr>\n",
       "    <tr>\n",
       "      <th>E</th>\n",
       "      <td>32</td>\n",
       "    </tr>\n",
       "    <tr>\n",
       "      <th>F</th>\n",
       "      <td>13</td>\n",
       "    </tr>\n",
       "    <tr>\n",
       "      <th>G</th>\n",
       "      <td>4</td>\n",
       "    </tr>\n",
       "    <tr>\n",
       "      <th>T</th>\n",
       "      <td>1</td>\n",
       "    </tr>\n",
       "  </tbody>\n",
       "</table>\n",
       "</div>"
      ],
      "text/plain": [
       "              Survived\n",
       "Cabin_letter          \n",
       "A                   15\n",
       "B                   47\n",
       "C                   59\n",
       "D                   33\n",
       "E                   32\n",
       "F                   13\n",
       "G                    4\n",
       "T                    1"
      ]
     },
     "execution_count": 31,
     "metadata": {},
     "output_type": "execute_result"
    }
   ],
   "source": [
    "# Cette variable représente la première lettre de la cabine du passager.\n",
    "# Elle peut être utile pour comprendre la localisation de la cabine du passager.\n",
    "df_train['Cabin_letter'] = df_train.Cabin.str[0]\n",
    "\n",
    "# Créé une table pivot pour la variable Cabin_letter\n",
    "pivot_table = df_train.pivot_table(values='Survived', index='Cabin_letter', aggfunc=\"count\")\n",
    "pivot_table"
   ]
  },
  {
   "cell_type": "markdown",
   "metadata": {},
   "source": [
    "Ces nouvelles variables peuvent contribuer à améliorer la puissance de prédiction du modèle des survivants du Titanic. Elles capturent des informations supplémentaires sur les passagers qui peuvent être utiles pour comprendre les facteurs qui ont influencé leur survie.\n",
    "\n",
    "Attention : ces variables ne sont pas garanties d'améliorer la puissance de prédiction du modèle. Il est nécessaire de tester les modèles sur des données de validation pour confirmer leur efficacité."
   ]
  },
  {
   "cell_type": "markdown",
   "metadata": {},
   "source": [
    "## 5) Data Preperation\n",
    "All of the operations done so far were done on the training set. However, when we test our model, the test data needs to have the same format as the training data (the created variables, the deleted variables, ...).\n",
    "\n",
    "### 5.1) Data transformation:\n",
    "A quick way to do that, is to combine both datasets and apply the operations applied previously on the combined dataset."
   ]
  },
  {
   "cell_type": "code",
   "execution_count": 33,
   "metadata": {
    "tags": []
   },
   "outputs": [
    {
     "data": {
      "text/html": [
       "<div>\n",
       "<style scoped>\n",
       "    .dataframe tbody tr th:only-of-type {\n",
       "        vertical-align: middle;\n",
       "    }\n",
       "\n",
       "    .dataframe tbody tr th {\n",
       "        vertical-align: top;\n",
       "    }\n",
       "\n",
       "    .dataframe thead th {\n",
       "        text-align: right;\n",
       "    }\n",
       "</style>\n",
       "<table border=\"1\" class=\"dataframe\">\n",
       "  <thead>\n",
       "    <tr style=\"text-align: right;\">\n",
       "      <th></th>\n",
       "      <th>PassengerId</th>\n",
       "      <th>Pclass</th>\n",
       "      <th>Name</th>\n",
       "      <th>Sex</th>\n",
       "      <th>Age</th>\n",
       "      <th>SibSp</th>\n",
       "      <th>Parch</th>\n",
       "      <th>Ticket</th>\n",
       "      <th>Fare</th>\n",
       "      <th>Cabin</th>\n",
       "      <th>Embarked</th>\n",
       "    </tr>\n",
       "  </thead>\n",
       "  <tbody>\n",
       "    <tr>\n",
       "      <th>0</th>\n",
       "      <td>892</td>\n",
       "      <td>3</td>\n",
       "      <td>Kelly, Mr. James</td>\n",
       "      <td>male</td>\n",
       "      <td>34.5</td>\n",
       "      <td>0</td>\n",
       "      <td>0</td>\n",
       "      <td>330911</td>\n",
       "      <td>7.8292</td>\n",
       "      <td>NaN</td>\n",
       "      <td>Q</td>\n",
       "    </tr>\n",
       "    <tr>\n",
       "      <th>1</th>\n",
       "      <td>893</td>\n",
       "      <td>3</td>\n",
       "      <td>Wilkes, Mrs. James (Ellen Needs)</td>\n",
       "      <td>female</td>\n",
       "      <td>47.0</td>\n",
       "      <td>1</td>\n",
       "      <td>0</td>\n",
       "      <td>363272</td>\n",
       "      <td>7.0000</td>\n",
       "      <td>NaN</td>\n",
       "      <td>S</td>\n",
       "    </tr>\n",
       "    <tr>\n",
       "      <th>2</th>\n",
       "      <td>894</td>\n",
       "      <td>2</td>\n",
       "      <td>Myles, Mr. Thomas Francis</td>\n",
       "      <td>male</td>\n",
       "      <td>62.0</td>\n",
       "      <td>0</td>\n",
       "      <td>0</td>\n",
       "      <td>240276</td>\n",
       "      <td>9.6875</td>\n",
       "      <td>NaN</td>\n",
       "      <td>Q</td>\n",
       "    </tr>\n",
       "    <tr>\n",
       "      <th>3</th>\n",
       "      <td>895</td>\n",
       "      <td>3</td>\n",
       "      <td>Wirz, Mr. Albert</td>\n",
       "      <td>male</td>\n",
       "      <td>27.0</td>\n",
       "      <td>0</td>\n",
       "      <td>0</td>\n",
       "      <td>315154</td>\n",
       "      <td>8.6625</td>\n",
       "      <td>NaN</td>\n",
       "      <td>S</td>\n",
       "    </tr>\n",
       "    <tr>\n",
       "      <th>4</th>\n",
       "      <td>896</td>\n",
       "      <td>3</td>\n",
       "      <td>Hirvonen, Mrs. Alexander (Helga E Lindqvist)</td>\n",
       "      <td>female</td>\n",
       "      <td>22.0</td>\n",
       "      <td>1</td>\n",
       "      <td>1</td>\n",
       "      <td>3101298</td>\n",
       "      <td>12.2875</td>\n",
       "      <td>NaN</td>\n",
       "      <td>S</td>\n",
       "    </tr>\n",
       "  </tbody>\n",
       "</table>\n",
       "</div>"
      ],
      "text/plain": [
       "   PassengerId  Pclass                                          Name     Sex  \\\n",
       "0          892       3                              Kelly, Mr. James    male   \n",
       "1          893       3              Wilkes, Mrs. James (Ellen Needs)  female   \n",
       "2          894       2                     Myles, Mr. Thomas Francis    male   \n",
       "3          895       3                              Wirz, Mr. Albert    male   \n",
       "4          896       3  Hirvonen, Mrs. Alexander (Helga E Lindqvist)  female   \n",
       "\n",
       "    Age  SibSp  Parch   Ticket     Fare Cabin Embarked  \n",
       "0  34.5      0      0   330911   7.8292   NaN        Q  \n",
       "1  47.0      1      0   363272   7.0000   NaN        S  \n",
       "2  62.0      0      0   240276   9.6875   NaN        Q  \n",
       "3  27.0      0      0   315154   8.6625   NaN        S  \n",
       "4  22.0      1      1  3101298  12.2875   NaN        S  "
      ]
     },
     "execution_count": 33,
     "metadata": {},
     "output_type": "execute_result"
    }
   ],
   "source": [
    "df_test = pd.read_csv('data/titanic/test.csv')\n",
    "df_test.head()"
   ]
  },
  {
   "cell_type": "markdown",
   "metadata": {},
   "source": [
    "#### 5.1.1 ) Combinaison de l'ensemble de d'apprentissage et de test"
   ]
  },
  {
   "cell_type": "code",
   "execution_count": 35,
   "metadata": {
    "tags": []
   },
   "outputs": [
    {
     "data": {
      "text/html": [
       "<div>\n",
       "<style scoped>\n",
       "    .dataframe tbody tr th:only-of-type {\n",
       "        vertical-align: middle;\n",
       "    }\n",
       "\n",
       "    .dataframe tbody tr th {\n",
       "        vertical-align: top;\n",
       "    }\n",
       "\n",
       "    .dataframe thead th {\n",
       "        text-align: right;\n",
       "    }\n",
       "</style>\n",
       "<table border=\"1\" class=\"dataframe\">\n",
       "  <thead>\n",
       "    <tr style=\"text-align: right;\">\n",
       "      <th></th>\n",
       "      <th>PassengerId</th>\n",
       "      <th>Survived</th>\n",
       "      <th>Pclass</th>\n",
       "      <th>Name</th>\n",
       "      <th>Sex</th>\n",
       "      <th>Age</th>\n",
       "      <th>SibSp</th>\n",
       "      <th>Parch</th>\n",
       "      <th>Ticket</th>\n",
       "      <th>Fare</th>\n",
       "      <th>Cabin</th>\n",
       "      <th>Embarked</th>\n",
       "      <th>Cabin_multiple</th>\n",
       "      <th>Family_size</th>\n",
       "      <th>Cabin_letter</th>\n",
       "      <th>train</th>\n",
       "    </tr>\n",
       "  </thead>\n",
       "  <tbody>\n",
       "    <tr>\n",
       "      <th>0</th>\n",
       "      <td>1</td>\n",
       "      <td>0.0</td>\n",
       "      <td>3</td>\n",
       "      <td>Braund, Mr. Owen Harris</td>\n",
       "      <td>male</td>\n",
       "      <td>22.0</td>\n",
       "      <td>1</td>\n",
       "      <td>0</td>\n",
       "      <td>A/5 21171</td>\n",
       "      <td>7.2500</td>\n",
       "      <td>NaN</td>\n",
       "      <td>S</td>\n",
       "      <td>0.0</td>\n",
       "      <td>2.0</td>\n",
       "      <td>NaN</td>\n",
       "      <td>1</td>\n",
       "    </tr>\n",
       "    <tr>\n",
       "      <th>1</th>\n",
       "      <td>2</td>\n",
       "      <td>1.0</td>\n",
       "      <td>1</td>\n",
       "      <td>Cumings, Mrs. John Bradley (Florence Briggs Th...</td>\n",
       "      <td>female</td>\n",
       "      <td>38.0</td>\n",
       "      <td>1</td>\n",
       "      <td>0</td>\n",
       "      <td>PC 17599</td>\n",
       "      <td>71.2833</td>\n",
       "      <td>C85</td>\n",
       "      <td>C</td>\n",
       "      <td>1.0</td>\n",
       "      <td>2.0</td>\n",
       "      <td>C</td>\n",
       "      <td>1</td>\n",
       "    </tr>\n",
       "    <tr>\n",
       "      <th>2</th>\n",
       "      <td>3</td>\n",
       "      <td>1.0</td>\n",
       "      <td>3</td>\n",
       "      <td>Heikkinen, Miss. Laina</td>\n",
       "      <td>female</td>\n",
       "      <td>26.0</td>\n",
       "      <td>0</td>\n",
       "      <td>0</td>\n",
       "      <td>STON/O2. 3101282</td>\n",
       "      <td>7.9250</td>\n",
       "      <td>NaN</td>\n",
       "      <td>S</td>\n",
       "      <td>0.0</td>\n",
       "      <td>1.0</td>\n",
       "      <td>NaN</td>\n",
       "      <td>1</td>\n",
       "    </tr>\n",
       "    <tr>\n",
       "      <th>3</th>\n",
       "      <td>4</td>\n",
       "      <td>1.0</td>\n",
       "      <td>1</td>\n",
       "      <td>Futrelle, Mrs. Jacques Heath (Lily May Peel)</td>\n",
       "      <td>female</td>\n",
       "      <td>35.0</td>\n",
       "      <td>1</td>\n",
       "      <td>0</td>\n",
       "      <td>113803</td>\n",
       "      <td>53.1000</td>\n",
       "      <td>C123</td>\n",
       "      <td>S</td>\n",
       "      <td>1.0</td>\n",
       "      <td>2.0</td>\n",
       "      <td>C</td>\n",
       "      <td>1</td>\n",
       "    </tr>\n",
       "    <tr>\n",
       "      <th>4</th>\n",
       "      <td>5</td>\n",
       "      <td>0.0</td>\n",
       "      <td>3</td>\n",
       "      <td>Allen, Mr. William Henry</td>\n",
       "      <td>male</td>\n",
       "      <td>35.0</td>\n",
       "      <td>0</td>\n",
       "      <td>0</td>\n",
       "      <td>373450</td>\n",
       "      <td>8.0500</td>\n",
       "      <td>NaN</td>\n",
       "      <td>S</td>\n",
       "      <td>0.0</td>\n",
       "      <td>1.0</td>\n",
       "      <td>NaN</td>\n",
       "      <td>1</td>\n",
       "    </tr>\n",
       "  </tbody>\n",
       "</table>\n",
       "</div>"
      ],
      "text/plain": [
       "   PassengerId  Survived  Pclass  \\\n",
       "0            1       0.0       3   \n",
       "1            2       1.0       1   \n",
       "2            3       1.0       3   \n",
       "3            4       1.0       1   \n",
       "4            5       0.0       3   \n",
       "\n",
       "                                                Name     Sex   Age  SibSp  \\\n",
       "0                            Braund, Mr. Owen Harris    male  22.0      1   \n",
       "1  Cumings, Mrs. John Bradley (Florence Briggs Th...  female  38.0      1   \n",
       "2                             Heikkinen, Miss. Laina  female  26.0      0   \n",
       "3       Futrelle, Mrs. Jacques Heath (Lily May Peel)  female  35.0      1   \n",
       "4                           Allen, Mr. William Henry    male  35.0      0   \n",
       "\n",
       "   Parch            Ticket     Fare Cabin Embarked  Cabin_multiple  \\\n",
       "0      0         A/5 21171   7.2500   NaN        S             0.0   \n",
       "1      0          PC 17599  71.2833   C85        C             1.0   \n",
       "2      0  STON/O2. 3101282   7.9250   NaN        S             0.0   \n",
       "3      0            113803  53.1000  C123        S             1.0   \n",
       "4      0            373450   8.0500   NaN        S             0.0   \n",
       "\n",
       "   Family_size Cabin_letter  train  \n",
       "0          2.0          NaN      1  \n",
       "1          2.0            C      1  \n",
       "2          1.0          NaN      1  \n",
       "3          2.0            C      1  \n",
       "4          1.0          NaN      1  "
      ]
     },
     "execution_count": 35,
     "metadata": {},
     "output_type": "execute_result"
    }
   ],
   "source": [
    "# Ce code combine les ensembles d'entraînement et de test du dataset Titanic et ajoute une colonne \n",
    "# supplémentaire train pour indiquer si un enregistrement provient de l'ensemble d'entraînement ou de l'ensemble de test.\n",
    "\n",
    "# Ajoute une colonne train à l'ensemble d'entraînement df_train et lui attribue la valeur 1 pour tous les enregistrements. \n",
    "# Cette valeur servira à différencier les enregistrements de l'ensemble d'entraînement des enregistrements de l'ensemble de \n",
    "# test lors de l'application des transformations ou du calcul des statistiques.\n",
    "df_train['train'] = 1\n",
    "\n",
    "# Ajoute également une colonne train à l'ensemble de test df_test et lui attribue la valeur \n",
    "# 0 pour tous les enregistrements. Cette valeur indique que les enregistrements de l'ensemble de test ne sont \n",
    "# pas inclus dans l'ensemble d'entraînement et qu'ils doivent être traités différemment lors de la construction du modèle.\n",
    "df_test['train'] = 0\n",
    "\n",
    "# Cette ligne assigne la valeur np.NaN (NaN = Not a Number) à la colonne Survived pour tous les \n",
    "# enregistrements de l'ensemble de test. Cette valeur indique que les informations sur la survie des \n",
    "# passagers de l'ensemble de test ne sont pas disponibles, car il s'agit d'enregistrements non observés.\n",
    "df_test['Survived'] = np.NaN\n",
    "\n",
    "# Combine les deux ensembles de données en un seul ensemble df_all.\n",
    "# les deux ensembles sont joins en ajoutant les enregistrements de l'ensemble de test après les enregistrements\n",
    "# de l'ensemble d'entraînement.\n",
    "df_all = pd.concat([df_train, df_test])\n",
    "\n",
    "#  Affiche les 5 premiers enregistrements de l'ensemble combiné df_all.\n",
    "df_all.head()"
   ]
  },
  {
   "cell_type": "markdown",
   "metadata": {},
   "source": [
    "#### 5.1.2) Ajout des variables créées au jeu de données de test"
   ]
  },
  {
   "cell_type": "code",
   "execution_count": 37,
   "metadata": {
    "tags": []
   },
   "outputs": [],
   "source": [
    "# On remplace les valeurs manquantes du jeu de test des variables créées en utilisant le même \n",
    "# calcul que pour le jeu d'entraînement.\n",
    "\n",
    "# Cabin_multiple\n",
    "df_all['Cabin_multiple'] = df_all['Cabin_multiple'].fillna(\n",
    "    df_train.Cabin.apply(lambda x : 0 if pd.isna(x) else len(x.split(' '))))\n",
    "\n",
    "# Family_size\n",
    "df_all['Family_size'] = df_all['Family_size'].fillna(df_train.SibSp + df_train.Parch + 1)\n",
    "\n",
    "# Cabin_letter\n",
    "df_all['Cabin_letter'] = df_all['Cabin_letter'].fillna(df_train.Cabin.str[0])"
   ]
  },
  {
   "cell_type": "markdown",
   "metadata": {},
   "source": [
    "#### 5.1.2) Information sur l'ensemble du jeu de données"
   ]
  },
  {
   "cell_type": "code",
   "execution_count": 39,
   "metadata": {
    "tags": []
   },
   "outputs": [
    {
     "name": "stdout",
     "output_type": "stream",
     "text": [
      "<class 'pandas.core.frame.DataFrame'>\n",
      "Index: 1309 entries, 0 to 417\n",
      "Data columns (total 16 columns):\n",
      " #   Column          Non-Null Count  Dtype  \n",
      "---  ------          --------------  -----  \n",
      " 0   PassengerId     1309 non-null   int64  \n",
      " 1   Survived        891 non-null    float64\n",
      " 2   Pclass          1309 non-null   int64  \n",
      " 3   Name            1309 non-null   object \n",
      " 4   Sex             1309 non-null   object \n",
      " 5   Age             1046 non-null   float64\n",
      " 6   SibSp           1309 non-null   int64  \n",
      " 7   Parch           1309 non-null   int64  \n",
      " 8   Ticket          1309 non-null   object \n",
      " 9   Fare            1308 non-null   float64\n",
      " 10  Cabin           295 non-null    object \n",
      " 11  Embarked        1307 non-null   object \n",
      " 12  Cabin_multiple  1309 non-null   float64\n",
      " 13  Family_size     1309 non-null   float64\n",
      " 14  Cabin_letter    296 non-null    object \n",
      " 15  train           1309 non-null   int64  \n",
      "dtypes: float64(5), int64(5), object(6)\n",
      "memory usage: 173.9+ KB\n"
     ]
    }
   ],
   "source": [
    "# TO-DO : Use the .info() function from pandas and get the information about the dataset after the changes\n",
    "df_all.info()"
   ]
  },
  {
   "cell_type": "markdown",
   "metadata": {},
   "source": [
    "#### 5.1.2) Imputaton des variables `Age` et `Fare`"
   ]
  },
  {
   "cell_type": "code",
   "execution_count": 41,
   "metadata": {
    "tags": []
   },
   "outputs": [],
   "source": [
    "# Remplace les valeurs manquantes dans les colonnes Age et Fare de l'ensemble de \n",
    "# données df_all par la médiane de la colonne respective.\n",
    "df_all['Age'] = df_all['Age'].fillna(df_all['Age'].median())\n",
    "df_all['Fare'] = df_all['Fare'].fillna(df_all['Fare'].median())"
   ]
  },
  {
   "cell_type": "markdown",
   "metadata": {},
   "source": [
    "### 5.2) Handling missing data : \n",
    "There are different ways to handle missing data in a dataset. Name some of them.\n",
    "\n",
    "List the variables with missing values.\n",
    "\n",
    "For every variable named, handle the missing variables in the way you see fits."
   ]
  },
  {
   "cell_type": "markdown",
   "metadata": {},
   "source": [
    "#### 5.2.1) Méthodes de gestion des valeurs manquantes"
   ]
  },
  {
   "cell_type": "markdown",
   "metadata": {},
   "source": [
    "Il existe deux grandes approches pour gérer les données manquantes : la suppression et l'imputation.\n",
    "\n",
    "**La suppression** consiste à éliminer les observations ou les variables contenant des valeurs manquantes. Cette approche est simple à mettre en œuvre, mais elle peut entraîner une perte de données importantes et une diminution de la puissance statistique du modèle.\n",
    "\n",
    "**L'imputation** consiste à remplacer les valeurs manquantes par des valeurs estimées. Cette approche permet de conserver l'ensemble des données, mais elle peut entraîner une introduction de biais dans le modèle, si les valeurs estimées ne sont pas représentatives des valeurs réelles.\n",
    "\n",
    "Plusieurs méthodes d'imputation existent, dont les suivantes :\n",
    "\n",
    "* **La substitution par la moyenne ou la médiane** : les valeurs manquantes sont remplacées par la moyenne ou la médiane des valeurs observées pour la variable considérée.\n",
    "* **La substitution par une valeur constante** : les valeurs manquantes sont remplacées par une valeur constante, telle que 0 ou une valeur moyenne.\n",
    "* **L'imputation par régression** : les valeurs manquantes sont estimées à l'aide d'un modèle de régression. Cette méthode permet de prendre en compte les relations entre les variables.\n",
    "* **L'imputation par machine learning** : les valeurs manquantes sont estimées à l'aide d'un modèle d'apprentissage automatique. Cette méthode permet de prendre en compte des relations complexes entre les variables."
   ]
  },
  {
   "cell_type": "markdown",
   "metadata": {},
   "source": [
    "#### 5.2.2 ) Information sur l'ensemble du jeu de données"
   ]
  },
  {
   "cell_type": "code",
   "execution_count": 43,
   "metadata": {
    "tags": []
   },
   "outputs": [
    {
     "name": "stdout",
     "output_type": "stream",
     "text": [
      "<class 'pandas.core.frame.DataFrame'>\n",
      "Index: 1309 entries, 0 to 417\n",
      "Data columns (total 16 columns):\n",
      " #   Column          Non-Null Count  Dtype  \n",
      "---  ------          --------------  -----  \n",
      " 0   PassengerId     1309 non-null   int64  \n",
      " 1   Survived        891 non-null    float64\n",
      " 2   Pclass          1309 non-null   int64  \n",
      " 3   Name            1309 non-null   object \n",
      " 4   Sex             1309 non-null   object \n",
      " 5   Age             1309 non-null   float64\n",
      " 6   SibSp           1309 non-null   int64  \n",
      " 7   Parch           1309 non-null   int64  \n",
      " 8   Ticket          1309 non-null   object \n",
      " 9   Fare            1309 non-null   float64\n",
      " 10  Cabin           295 non-null    object \n",
      " 11  Embarked        1307 non-null   object \n",
      " 12  Cabin_multiple  1309 non-null   float64\n",
      " 13  Family_size     1309 non-null   float64\n",
      " 14  Cabin_letter    296 non-null    object \n",
      " 15  train           1309 non-null   int64  \n",
      "dtypes: float64(5), int64(5), object(6)\n",
      "memory usage: 173.9+ KB\n"
     ]
    }
   ],
   "source": [
    "# TO-DO : Use the .info() function from pandas and get the information about the dataset after the changes\n",
    "df_all.info()"
   ]
  },
  {
   "cell_type": "markdown",
   "metadata": {},
   "source": [
    "#### 5.2.3 ) Liste des variables avec valeurs manquantes et la stratégie adopté"
   ]
  },
  {
   "cell_type": "markdown",
   "metadata": {},
   "source": [
    "- **Survived, Cabin, Embarked** sont les variables categorielles avec des valeurs manquantes.\n",
    "- **Suvived** : les valeurs manquantes seront conservées car elles sont importantes pour le jeu de test.\n",
    "- **Cabin** et **Cabin_letter**: les variables seront supprimées car il y a environ 77 % de données manquantes.\n",
    "- **Embarked** : les lignes avec des données manquantes pour cette variable seront supprimées car 99 % des données sont disponibles."
   ]
  },
  {
   "cell_type": "code",
   "execution_count": 45,
   "metadata": {
    "tags": []
   },
   "outputs": [
    {
     "name": "stdout",
     "output_type": "stream",
     "text": [
      "<class 'pandas.core.frame.DataFrame'>\n",
      "Index: 1307 entries, 0 to 417\n",
      "Data columns (total 14 columns):\n",
      " #   Column          Non-Null Count  Dtype  \n",
      "---  ------          --------------  -----  \n",
      " 0   PassengerId     1307 non-null   int64  \n",
      " 1   Survived        889 non-null    float64\n",
      " 2   Pclass          1307 non-null   int64  \n",
      " 3   Name            1307 non-null   object \n",
      " 4   Sex             1307 non-null   object \n",
      " 5   Age             1307 non-null   float64\n",
      " 6   SibSp           1307 non-null   int64  \n",
      " 7   Parch           1307 non-null   int64  \n",
      " 8   Ticket          1307 non-null   object \n",
      " 9   Fare            1307 non-null   float64\n",
      " 10  Embarked        1307 non-null   object \n",
      " 11  Cabin_multiple  1307 non-null   float64\n",
      " 12  Family_size     1307 non-null   float64\n",
      " 13  train           1307 non-null   int64  \n",
      "dtypes: float64(5), int64(5), object(4)\n",
      "memory usage: 153.2+ KB\n"
     ]
    }
   ],
   "source": [
    "#supprimer 'Cabin' Si la colonne elle existe dans le DataFrame 'df_all', supprimez-la\n",
    "if \"Cabin\" in df_all.columns:\n",
    "    df_all = df_all.drop(\"Cabin\", axis=1)\n",
    "    \n",
    "if \"Cabin_letter\" in df_all.columns:\n",
    "    df_all = df_all.drop(\"Cabin_letter\", axis=1)\n",
    "\n",
    "# Supprimez les lignes contenant des valeurs manquantes dans la colonne 'Embarked'\n",
    "df_all = df_all.dropna(subset=['Embarked'])\n",
    "\n",
    "# Imprimez les informations du DataFrame 'df_all' modifié\n",
    "df_all.info()"
   ]
  },
  {
   "cell_type": "markdown",
   "metadata": {},
   "source": [
    "### 5.3) Categorical variables transformation : \n",
    "Fully connected neural networks (FCNNs) are known for not being able to handle categorical variables in their natural state.\n",
    "\n",
    "Using one hot encoding (.get dummies function from pandas), create a new version of the dataset with transformed categorical variables."
   ]
  },
  {
   "cell_type": "markdown",
   "metadata": {},
   "source": [
    "#### 5.3.1 ) Encodage des variables catégorielles"
   ]
  },
  {
   "cell_type": "code",
   "execution_count": 47,
   "metadata": {
    "tags": []
   },
   "outputs": [
    {
     "data": {
      "text/html": [
       "<div>\n",
       "<style scoped>\n",
       "    .dataframe tbody tr th:only-of-type {\n",
       "        vertical-align: middle;\n",
       "    }\n",
       "\n",
       "    .dataframe tbody tr th {\n",
       "        vertical-align: top;\n",
       "    }\n",
       "\n",
       "    .dataframe thead th {\n",
       "        text-align: right;\n",
       "    }\n",
       "</style>\n",
       "<table border=\"1\" class=\"dataframe\">\n",
       "  <thead>\n",
       "    <tr style=\"text-align: right;\">\n",
       "      <th></th>\n",
       "      <th>PassengerId</th>\n",
       "      <th>Survived</th>\n",
       "      <th>Name</th>\n",
       "      <th>Age</th>\n",
       "      <th>SibSp</th>\n",
       "      <th>Parch</th>\n",
       "      <th>Fare</th>\n",
       "      <th>Cabin_multiple</th>\n",
       "      <th>Family_size</th>\n",
       "      <th>train</th>\n",
       "      <th>...</th>\n",
       "      <th>Ticket_W./C. 14266</th>\n",
       "      <th>Ticket_W./C. 6607</th>\n",
       "      <th>Ticket_W./C. 6608</th>\n",
       "      <th>Ticket_W./C. 6609</th>\n",
       "      <th>Ticket_W.E.P. 5734</th>\n",
       "      <th>Ticket_W/C 14208</th>\n",
       "      <th>Ticket_WE/P 5735</th>\n",
       "      <th>Embarked_C</th>\n",
       "      <th>Embarked_Q</th>\n",
       "      <th>Embarked_S</th>\n",
       "    </tr>\n",
       "  </thead>\n",
       "  <tbody>\n",
       "    <tr>\n",
       "      <th>0</th>\n",
       "      <td>1</td>\n",
       "      <td>0.0</td>\n",
       "      <td>Braund, Mr. Owen Harris</td>\n",
       "      <td>22.0</td>\n",
       "      <td>1</td>\n",
       "      <td>0</td>\n",
       "      <td>7.2500</td>\n",
       "      <td>0.0</td>\n",
       "      <td>2.0</td>\n",
       "      <td>1</td>\n",
       "      <td>...</td>\n",
       "      <td>0</td>\n",
       "      <td>0</td>\n",
       "      <td>0</td>\n",
       "      <td>0</td>\n",
       "      <td>0</td>\n",
       "      <td>0</td>\n",
       "      <td>0</td>\n",
       "      <td>0</td>\n",
       "      <td>0</td>\n",
       "      <td>1</td>\n",
       "    </tr>\n",
       "    <tr>\n",
       "      <th>1</th>\n",
       "      <td>2</td>\n",
       "      <td>1.0</td>\n",
       "      <td>Cumings, Mrs. John Bradley (Florence Briggs Th...</td>\n",
       "      <td>38.0</td>\n",
       "      <td>1</td>\n",
       "      <td>0</td>\n",
       "      <td>71.2833</td>\n",
       "      <td>1.0</td>\n",
       "      <td>2.0</td>\n",
       "      <td>1</td>\n",
       "      <td>...</td>\n",
       "      <td>0</td>\n",
       "      <td>0</td>\n",
       "      <td>0</td>\n",
       "      <td>0</td>\n",
       "      <td>0</td>\n",
       "      <td>0</td>\n",
       "      <td>0</td>\n",
       "      <td>1</td>\n",
       "      <td>0</td>\n",
       "      <td>0</td>\n",
       "    </tr>\n",
       "    <tr>\n",
       "      <th>2</th>\n",
       "      <td>3</td>\n",
       "      <td>1.0</td>\n",
       "      <td>Heikkinen, Miss. Laina</td>\n",
       "      <td>26.0</td>\n",
       "      <td>0</td>\n",
       "      <td>0</td>\n",
       "      <td>7.9250</td>\n",
       "      <td>0.0</td>\n",
       "      <td>1.0</td>\n",
       "      <td>1</td>\n",
       "      <td>...</td>\n",
       "      <td>0</td>\n",
       "      <td>0</td>\n",
       "      <td>0</td>\n",
       "      <td>0</td>\n",
       "      <td>0</td>\n",
       "      <td>0</td>\n",
       "      <td>0</td>\n",
       "      <td>0</td>\n",
       "      <td>0</td>\n",
       "      <td>1</td>\n",
       "    </tr>\n",
       "    <tr>\n",
       "      <th>3</th>\n",
       "      <td>4</td>\n",
       "      <td>1.0</td>\n",
       "      <td>Futrelle, Mrs. Jacques Heath (Lily May Peel)</td>\n",
       "      <td>35.0</td>\n",
       "      <td>1</td>\n",
       "      <td>0</td>\n",
       "      <td>53.1000</td>\n",
       "      <td>1.0</td>\n",
       "      <td>2.0</td>\n",
       "      <td>1</td>\n",
       "      <td>...</td>\n",
       "      <td>0</td>\n",
       "      <td>0</td>\n",
       "      <td>0</td>\n",
       "      <td>0</td>\n",
       "      <td>0</td>\n",
       "      <td>0</td>\n",
       "      <td>0</td>\n",
       "      <td>0</td>\n",
       "      <td>0</td>\n",
       "      <td>1</td>\n",
       "    </tr>\n",
       "    <tr>\n",
       "      <th>4</th>\n",
       "      <td>5</td>\n",
       "      <td>0.0</td>\n",
       "      <td>Allen, Mr. William Henry</td>\n",
       "      <td>35.0</td>\n",
       "      <td>0</td>\n",
       "      <td>0</td>\n",
       "      <td>8.0500</td>\n",
       "      <td>0.0</td>\n",
       "      <td>1.0</td>\n",
       "      <td>1</td>\n",
       "      <td>...</td>\n",
       "      <td>0</td>\n",
       "      <td>0</td>\n",
       "      <td>0</td>\n",
       "      <td>0</td>\n",
       "      <td>0</td>\n",
       "      <td>0</td>\n",
       "      <td>0</td>\n",
       "      <td>0</td>\n",
       "      <td>0</td>\n",
       "      <td>1</td>\n",
       "    </tr>\n",
       "  </tbody>\n",
       "</table>\n",
       "<p>5 rows × 946 columns</p>\n",
       "</div>"
      ],
      "text/plain": [
       "   PassengerId  Survived                                               Name  \\\n",
       "0            1       0.0                            Braund, Mr. Owen Harris   \n",
       "1            2       1.0  Cumings, Mrs. John Bradley (Florence Briggs Th...   \n",
       "2            3       1.0                             Heikkinen, Miss. Laina   \n",
       "3            4       1.0       Futrelle, Mrs. Jacques Heath (Lily May Peel)   \n",
       "4            5       0.0                           Allen, Mr. William Henry   \n",
       "\n",
       "    Age  SibSp  Parch     Fare  Cabin_multiple  Family_size  train  ...  \\\n",
       "0  22.0      1      0   7.2500             0.0          2.0      1  ...   \n",
       "1  38.0      1      0  71.2833             1.0          2.0      1  ...   \n",
       "2  26.0      0      0   7.9250             0.0          1.0      1  ...   \n",
       "3  35.0      1      0  53.1000             1.0          2.0      1  ...   \n",
       "4  35.0      0      0   8.0500             0.0          1.0      1  ...   \n",
       "\n",
       "   Ticket_W./C. 14266  Ticket_W./C. 6607  Ticket_W./C. 6608  \\\n",
       "0                   0                  0                  0   \n",
       "1                   0                  0                  0   \n",
       "2                   0                  0                  0   \n",
       "3                   0                  0                  0   \n",
       "4                   0                  0                  0   \n",
       "\n",
       "   Ticket_W./C. 6609  Ticket_W.E.P. 5734  Ticket_W/C 14208  Ticket_WE/P 5735  \\\n",
       "0                  0                   0                 0                 0   \n",
       "1                  0                   0                 0                 0   \n",
       "2                  0                   0                 0                 0   \n",
       "3                  0                   0                 0                 0   \n",
       "4                  0                   0                 0                 0   \n",
       "\n",
       "   Embarked_C  Embarked_Q  Embarked_S  \n",
       "0           0           0           1  \n",
       "1           1           0           0  \n",
       "2           0           0           1  \n",
       "3           0           0           1  \n",
       "4           0           0           1  \n",
       "\n",
       "[5 rows x 946 columns]"
      ]
     },
     "execution_count": 47,
     "metadata": {},
     "output_type": "execute_result"
    }
   ],
   "source": [
    "# First, we transoform the Pclass variable to string because it is a categorical variable\n",
    "\n",
    "# Convertir le type de données de la colonne 'Pclass' en chaîne de caractères\n",
    "# Cela est nécessaire car le codage à chaud ne fonctionne pas avec les données numériques.\n",
    "df_all['Pclass'] = df_all['Pclass'].astype(str)\n",
    "\n",
    "# Obtenir la liste des noms de colonnes catégorielles\n",
    "column_name = list(df_cat.columns.array)\n",
    "\n",
    "# Supprimer les colonnes \"Cabin\", \"PassengerId\", \"Name\" et \"Survived\" de la liste des colonnes catégorielles\n",
    "# Ces colonnes ne sont pas pertinentes pour la prédiction de la survie et ne doivent pas être utilisées dans le codage à chaud.\n",
    "column_name.remove(\"Cabin\")\n",
    "column_name.remove(\"PassengerId\")\n",
    "column_name.remove(\"Name\")\n",
    "column_name.remove(\"Survived\")\n",
    "\n",
    "# Convertir les types de données des colonnes catégorielles en chaînes de caractères\n",
    "# Cela permet d'appliquer le codage à chaud efficacement.\n",
    "df_all[column_name] = df_all[column_name].astype(str)\n",
    "\n",
    "# Encode les variables catégorielles à l'aide du codage à chaud\n",
    "df_all_new = pd.get_dummies(df_all, columns=column_name, dtype=\"int64\")\n",
    "\n",
    "# Afficher les cinq premières lignes du DataFrame 'df_all_new'\n",
    "df_all_new.head()"
   ]
  },
  {
   "cell_type": "markdown",
   "metadata": {},
   "source": [
    "L'encodage à chaud a permit d'obtenir 947 fonctionalitées"
   ]
  },
  {
   "cell_type": "markdown",
   "metadata": {},
   "source": [
    "#### 5.3.2 ) Informations les nouvelles données"
   ]
  },
  {
   "cell_type": "code",
   "execution_count": 59,
   "metadata": {
    "tags": []
   },
   "outputs": [
    {
     "name": "stdout",
     "output_type": "stream",
     "text": [
      "<class 'pandas.core.frame.DataFrame'>\n",
      "Index: 1307 entries, 0 to 417\n",
      "Columns: 946 entries, PassengerId to Embarked_S\n",
      "dtypes: float64(5), int64(940), object(1)\n",
      "memory usage: 9.4+ MB\n"
     ]
    }
   ],
   "source": [
    "# TO-DO : Get the information for the newly created dataset\n",
    "df_all_new.info()"
   ]
  },
  {
   "cell_type": "code",
   "execution_count": 61,
   "metadata": {
    "tags": []
   },
   "outputs": [
    {
     "data": {
      "text/html": [
       "<div>\n",
       "<style scoped>\n",
       "    .dataframe tbody tr th:only-of-type {\n",
       "        vertical-align: middle;\n",
       "    }\n",
       "\n",
       "    .dataframe tbody tr th {\n",
       "        vertical-align: top;\n",
       "    }\n",
       "\n",
       "    .dataframe thead th {\n",
       "        text-align: right;\n",
       "    }\n",
       "</style>\n",
       "<table border=\"1\" class=\"dataframe\">\n",
       "  <thead>\n",
       "    <tr style=\"text-align: right;\">\n",
       "      <th></th>\n",
       "      <th>PassengerId</th>\n",
       "      <th>Survived</th>\n",
       "      <th>Age</th>\n",
       "      <th>SibSp</th>\n",
       "      <th>Parch</th>\n",
       "      <th>Fare</th>\n",
       "      <th>Cabin_multiple</th>\n",
       "      <th>Family_size</th>\n",
       "      <th>train</th>\n",
       "      <th>Pclass_1</th>\n",
       "      <th>...</th>\n",
       "      <th>Ticket_W./C. 14266</th>\n",
       "      <th>Ticket_W./C. 6607</th>\n",
       "      <th>Ticket_W./C. 6608</th>\n",
       "      <th>Ticket_W./C. 6609</th>\n",
       "      <th>Ticket_W.E.P. 5734</th>\n",
       "      <th>Ticket_W/C 14208</th>\n",
       "      <th>Ticket_WE/P 5735</th>\n",
       "      <th>Embarked_C</th>\n",
       "      <th>Embarked_Q</th>\n",
       "      <th>Embarked_S</th>\n",
       "    </tr>\n",
       "  </thead>\n",
       "  <tbody>\n",
       "    <tr>\n",
       "      <th>count</th>\n",
       "      <td>1307.000000</td>\n",
       "      <td>889.000000</td>\n",
       "      <td>1307.000000</td>\n",
       "      <td>1307.000000</td>\n",
       "      <td>1307.000000</td>\n",
       "      <td>1307.000000</td>\n",
       "      <td>1307.000000</td>\n",
       "      <td>1307.000000</td>\n",
       "      <td>1307.000000</td>\n",
       "      <td>1307.000000</td>\n",
       "      <td>...</td>\n",
       "      <td>1307.000000</td>\n",
       "      <td>1307.000000</td>\n",
       "      <td>1307.000000</td>\n",
       "      <td>1307.000000</td>\n",
       "      <td>1307.000000</td>\n",
       "      <td>1307.000000</td>\n",
       "      <td>1307.000000</td>\n",
       "      <td>1307.000000</td>\n",
       "      <td>1307.000000</td>\n",
       "      <td>1307.000000</td>\n",
       "    </tr>\n",
       "    <tr>\n",
       "      <th>mean</th>\n",
       "      <td>655.319816</td>\n",
       "      <td>0.382452</td>\n",
       "      <td>29.471821</td>\n",
       "      <td>0.499617</td>\n",
       "      <td>0.385616</td>\n",
       "      <td>33.209595</td>\n",
       "      <td>0.263963</td>\n",
       "      <td>1.927314</td>\n",
       "      <td>0.680184</td>\n",
       "      <td>0.245601</td>\n",
       "      <td>...</td>\n",
       "      <td>0.000765</td>\n",
       "      <td>0.003060</td>\n",
       "      <td>0.003826</td>\n",
       "      <td>0.000765</td>\n",
       "      <td>0.001530</td>\n",
       "      <td>0.000765</td>\n",
       "      <td>0.001530</td>\n",
       "      <td>0.206580</td>\n",
       "      <td>0.094109</td>\n",
       "      <td>0.699311</td>\n",
       "    </tr>\n",
       "    <tr>\n",
       "      <th>std</th>\n",
       "      <td>377.922205</td>\n",
       "      <td>0.486260</td>\n",
       "      <td>12.881592</td>\n",
       "      <td>1.042273</td>\n",
       "      <td>0.866092</td>\n",
       "      <td>51.748768</td>\n",
       "      <td>0.547815</td>\n",
       "      <td>1.641278</td>\n",
       "      <td>0.466584</td>\n",
       "      <td>0.430608</td>\n",
       "      <td>...</td>\n",
       "      <td>0.027661</td>\n",
       "      <td>0.055258</td>\n",
       "      <td>0.061756</td>\n",
       "      <td>0.027661</td>\n",
       "      <td>0.039103</td>\n",
       "      <td>0.027661</td>\n",
       "      <td>0.039103</td>\n",
       "      <td>0.405006</td>\n",
       "      <td>0.292092</td>\n",
       "      <td>0.458733</td>\n",
       "    </tr>\n",
       "    <tr>\n",
       "      <th>min</th>\n",
       "      <td>1.000000</td>\n",
       "      <td>0.000000</td>\n",
       "      <td>0.170000</td>\n",
       "      <td>0.000000</td>\n",
       "      <td>0.000000</td>\n",
       "      <td>0.000000</td>\n",
       "      <td>0.000000</td>\n",
       "      <td>1.000000</td>\n",
       "      <td>0.000000</td>\n",
       "      <td>0.000000</td>\n",
       "      <td>...</td>\n",
       "      <td>0.000000</td>\n",
       "      <td>0.000000</td>\n",
       "      <td>0.000000</td>\n",
       "      <td>0.000000</td>\n",
       "      <td>0.000000</td>\n",
       "      <td>0.000000</td>\n",
       "      <td>0.000000</td>\n",
       "      <td>0.000000</td>\n",
       "      <td>0.000000</td>\n",
       "      <td>0.000000</td>\n",
       "    </tr>\n",
       "    <tr>\n",
       "      <th>25%</th>\n",
       "      <td>328.500000</td>\n",
       "      <td>0.000000</td>\n",
       "      <td>22.000000</td>\n",
       "      <td>0.000000</td>\n",
       "      <td>0.000000</td>\n",
       "      <td>7.895800</td>\n",
       "      <td>0.000000</td>\n",
       "      <td>1.000000</td>\n",
       "      <td>0.000000</td>\n",
       "      <td>0.000000</td>\n",
       "      <td>...</td>\n",
       "      <td>0.000000</td>\n",
       "      <td>0.000000</td>\n",
       "      <td>0.000000</td>\n",
       "      <td>0.000000</td>\n",
       "      <td>0.000000</td>\n",
       "      <td>0.000000</td>\n",
       "      <td>0.000000</td>\n",
       "      <td>0.000000</td>\n",
       "      <td>0.000000</td>\n",
       "      <td>0.000000</td>\n",
       "    </tr>\n",
       "    <tr>\n",
       "      <th>50%</th>\n",
       "      <td>655.000000</td>\n",
       "      <td>0.000000</td>\n",
       "      <td>28.000000</td>\n",
       "      <td>0.000000</td>\n",
       "      <td>0.000000</td>\n",
       "      <td>14.454200</td>\n",
       "      <td>0.000000</td>\n",
       "      <td>1.000000</td>\n",
       "      <td>1.000000</td>\n",
       "      <td>0.000000</td>\n",
       "      <td>...</td>\n",
       "      <td>0.000000</td>\n",
       "      <td>0.000000</td>\n",
       "      <td>0.000000</td>\n",
       "      <td>0.000000</td>\n",
       "      <td>0.000000</td>\n",
       "      <td>0.000000</td>\n",
       "      <td>0.000000</td>\n",
       "      <td>0.000000</td>\n",
       "      <td>0.000000</td>\n",
       "      <td>1.000000</td>\n",
       "    </tr>\n",
       "    <tr>\n",
       "      <th>75%</th>\n",
       "      <td>982.500000</td>\n",
       "      <td>1.000000</td>\n",
       "      <td>35.000000</td>\n",
       "      <td>1.000000</td>\n",
       "      <td>0.000000</td>\n",
       "      <td>31.275000</td>\n",
       "      <td>0.000000</td>\n",
       "      <td>2.000000</td>\n",
       "      <td>1.000000</td>\n",
       "      <td>0.000000</td>\n",
       "      <td>...</td>\n",
       "      <td>0.000000</td>\n",
       "      <td>0.000000</td>\n",
       "      <td>0.000000</td>\n",
       "      <td>0.000000</td>\n",
       "      <td>0.000000</td>\n",
       "      <td>0.000000</td>\n",
       "      <td>0.000000</td>\n",
       "      <td>0.000000</td>\n",
       "      <td>0.000000</td>\n",
       "      <td>1.000000</td>\n",
       "    </tr>\n",
       "    <tr>\n",
       "      <th>max</th>\n",
       "      <td>1309.000000</td>\n",
       "      <td>1.000000</td>\n",
       "      <td>80.000000</td>\n",
       "      <td>8.000000</td>\n",
       "      <td>9.000000</td>\n",
       "      <td>512.329200</td>\n",
       "      <td>4.000000</td>\n",
       "      <td>11.000000</td>\n",
       "      <td>1.000000</td>\n",
       "      <td>1.000000</td>\n",
       "      <td>...</td>\n",
       "      <td>1.000000</td>\n",
       "      <td>1.000000</td>\n",
       "      <td>1.000000</td>\n",
       "      <td>1.000000</td>\n",
       "      <td>1.000000</td>\n",
       "      <td>1.000000</td>\n",
       "      <td>1.000000</td>\n",
       "      <td>1.000000</td>\n",
       "      <td>1.000000</td>\n",
       "      <td>1.000000</td>\n",
       "    </tr>\n",
       "  </tbody>\n",
       "</table>\n",
       "<p>8 rows × 945 columns</p>\n",
       "</div>"
      ],
      "text/plain": [
       "       PassengerId    Survived          Age        SibSp        Parch  \\\n",
       "count  1307.000000  889.000000  1307.000000  1307.000000  1307.000000   \n",
       "mean    655.319816    0.382452    29.471821     0.499617     0.385616   \n",
       "std     377.922205    0.486260    12.881592     1.042273     0.866092   \n",
       "min       1.000000    0.000000     0.170000     0.000000     0.000000   \n",
       "25%     328.500000    0.000000    22.000000     0.000000     0.000000   \n",
       "50%     655.000000    0.000000    28.000000     0.000000     0.000000   \n",
       "75%     982.500000    1.000000    35.000000     1.000000     0.000000   \n",
       "max    1309.000000    1.000000    80.000000     8.000000     9.000000   \n",
       "\n",
       "              Fare  Cabin_multiple  Family_size        train     Pclass_1  \\\n",
       "count  1307.000000     1307.000000  1307.000000  1307.000000  1307.000000   \n",
       "mean     33.209595        0.263963     1.927314     0.680184     0.245601   \n",
       "std      51.748768        0.547815     1.641278     0.466584     0.430608   \n",
       "min       0.000000        0.000000     1.000000     0.000000     0.000000   \n",
       "25%       7.895800        0.000000     1.000000     0.000000     0.000000   \n",
       "50%      14.454200        0.000000     1.000000     1.000000     0.000000   \n",
       "75%      31.275000        0.000000     2.000000     1.000000     0.000000   \n",
       "max     512.329200        4.000000    11.000000     1.000000     1.000000   \n",
       "\n",
       "       ...  Ticket_W./C. 14266  Ticket_W./C. 6607  Ticket_W./C. 6608  \\\n",
       "count  ...         1307.000000        1307.000000        1307.000000   \n",
       "mean   ...            0.000765           0.003060           0.003826   \n",
       "std    ...            0.027661           0.055258           0.061756   \n",
       "min    ...            0.000000           0.000000           0.000000   \n",
       "25%    ...            0.000000           0.000000           0.000000   \n",
       "50%    ...            0.000000           0.000000           0.000000   \n",
       "75%    ...            0.000000           0.000000           0.000000   \n",
       "max    ...            1.000000           1.000000           1.000000   \n",
       "\n",
       "       Ticket_W./C. 6609  Ticket_W.E.P. 5734  Ticket_W/C 14208  \\\n",
       "count        1307.000000         1307.000000       1307.000000   \n",
       "mean            0.000765            0.001530          0.000765   \n",
       "std             0.027661            0.039103          0.027661   \n",
       "min             0.000000            0.000000          0.000000   \n",
       "25%             0.000000            0.000000          0.000000   \n",
       "50%             0.000000            0.000000          0.000000   \n",
       "75%             0.000000            0.000000          0.000000   \n",
       "max             1.000000            1.000000          1.000000   \n",
       "\n",
       "       Ticket_WE/P 5735   Embarked_C   Embarked_Q   Embarked_S  \n",
       "count       1307.000000  1307.000000  1307.000000  1307.000000  \n",
       "mean           0.001530     0.206580     0.094109     0.699311  \n",
       "std            0.039103     0.405006     0.292092     0.458733  \n",
       "min            0.000000     0.000000     0.000000     0.000000  \n",
       "25%            0.000000     0.000000     0.000000     0.000000  \n",
       "50%            0.000000     0.000000     0.000000     1.000000  \n",
       "75%            0.000000     0.000000     0.000000     1.000000  \n",
       "max            1.000000     1.000000     1.000000     1.000000  \n",
       "\n",
       "[8 rows x 945 columns]"
      ]
     },
     "execution_count": 61,
     "metadata": {},
     "output_type": "execute_result"
    }
   ],
   "source": [
    "df_all_new.describe()"
   ]
  },
  {
   "cell_type": "markdown",
   "metadata": {},
   "source": [
    "#### 5.3.3 ) Suppression des variables créées dans le nouvel ensemble de données"
   ]
  },
  {
   "cell_type": "code",
   "execution_count": 63,
   "metadata": {
    "tags": []
   },
   "outputs": [],
   "source": [
    "# TO-DO : Create a second version of the dataset from the one previously created but without the \n",
    "# variables you created with data engineering\n",
    "\n",
    "# Supprime les colonnes \"Cabin_multiple\" et \"Family_size\" du DataFrame 'df_all_new_2'\n",
    "df_all_new_2 = df_all_new.drop([\"Cabin_multiple\", \"Family_size\"], axis=1)"
   ]
  },
  {
   "cell_type": "markdown",
   "metadata": {},
   "source": [
    "#### 5.3.4 ) Suppression des variables `PassengerId` et `Name`"
   ]
  },
  {
   "cell_type": "code",
   "execution_count": 65,
   "metadata": {
    "tags": []
   },
   "outputs": [],
   "source": [
    "# Supprime les colonnes \"PassengerId\" et \"Name\" du DataFrame \"df_all_new_2\"\n",
    "df_all_new_2 = df_all_new.drop([\"PassengerId\", \"Name\"], axis=1)"
   ]
  },
  {
   "cell_type": "markdown",
   "metadata": {},
   "source": [
    "#### 5.3.5 ) Séparation du jeu de données réel en train et test"
   ]
  },
  {
   "cell_type": "code",
   "execution_count": 67,
   "metadata": {
    "tags": []
   },
   "outputs": [
    {
     "name": "stdout",
     "output_type": "stream",
     "text": [
      "(889, 15) (889,)\n",
      "(0, 15)\n"
     ]
    }
   ],
   "source": [
    "# TO-DO : Separate the training data from the test data\n",
    "\n",
    "# Supprime les lignes contenant des valeurs manquantes dans la colonne \"Embarked\"\n",
    "df_train = df_train.dropna(subset=['Embarked'])\n",
    "\n",
    "# Sélectionne les données d'entraînement pour le modèle (train == 1)\n",
    "X_train = df_train.query(\"train == 1\").drop(\"Survived\", axis=1)\n",
    "\n",
    "# Sélectionne les données de test pour l'évaluation du modèle (train == 0)\n",
    "X_test = df_train.query(\"train == 0\").drop(\"Survived\", axis=1)\n",
    "\n",
    "# Extrait la variable cible (Survived) des données d'entraînement\n",
    "Y_train = df_train.query(\"train == 1\")[\"Survived\"]  # .astype(int)\n",
    "\n",
    "# Affiche la forme des matrices de données d'entraînement et de test\n",
    "print(X_train.shape, Y_train.shape)\n",
    "print(X_test.shape)"
   ]
  },
  {
   "cell_type": "markdown",
   "metadata": {},
   "source": [
    "#### 5.3.6 ) Séparation du jeu de données tranformé en train et test"
   ]
  },
  {
   "cell_type": "code",
   "execution_count": 69,
   "metadata": {
    "tags": []
   },
   "outputs": [
    {
     "name": "stdout",
     "output_type": "stream",
     "text": [
      "(889, 942) (889,)\n",
      "(418, 942)\n"
     ]
    }
   ],
   "source": [
    "# TO-DO : Separate the training data from the test data for the dataset without variables that are feature engineered\n",
    "\n",
    "# Récupère les données d'entraînement et de test à partir du DataFrame 'df_all_new_2'\n",
    "X_train_bis = df_all_new_2.query(\"train == 1\").drop(\"Survived\", axis=1)\n",
    "X_test_bis = df_all_new_2.query(\"train == 0\").drop(\"Survived\", axis=1)\n",
    "\n",
    "# Supprime la variable train unitile pour la formation du moèle\n",
    "X_train_bis = X_train_bis.drop(\"train\", axis=1)\n",
    "X_test_bis = X_test_bis.drop(\"train\", axis=1)\n",
    "\n",
    "# Affiche la forme des matrices de données d'entraînement et de test\n",
    "print(X_train_bis.shape, Y_train.shape)\n",
    "print(X_test_bis.shape)"
   ]
  },
  {
   "cell_type": "markdown",
   "metadata": {},
   "source": [
    "## 6) Model Creation\n",
    "Using keras, create a Neural Network and train it on the data generated. "
   ]
  },
  {
   "cell_type": "markdown",
   "metadata": {},
   "source": [
    "### 6.1 Création et entraînement du modèle"
   ]
  },
  {
   "cell_type": "code",
   "execution_count": 71,
   "metadata": {
    "tags": []
   },
   "outputs": [
    {
     "name": "stdout",
     "output_type": "stream",
     "text": [
      "WARNING:tensorflow:From C:\\Users\\Methery\\anaconda3\\Lib\\site-packages\\keras\\src\\backend.py:873: The name tf.get_default_graph is deprecated. Please use tf.compat.v1.get_default_graph instead.\n",
      "\n",
      "WARNING:tensorflow:From C:\\Users\\Methery\\anaconda3\\Lib\\site-packages\\keras\\src\\optimizers\\__init__.py:309: The name tf.train.Optimizer is deprecated. Please use tf.compat.v1.train.Optimizer instead.\n",
      "\n",
      "Epoch 1/100\n",
      "WARNING:tensorflow:From C:\\Users\\Methery\\anaconda3\\Lib\\site-packages\\keras\\src\\utils\\tf_utils.py:492: The name tf.ragged.RaggedTensorValue is deprecated. Please use tf.compat.v1.ragged.RaggedTensorValue instead.\n",
      "\n",
      "WARNING:tensorflow:From C:\\Users\\Methery\\anaconda3\\Lib\\site-packages\\keras\\src\\engine\\base_layer_utils.py:384: The name tf.executing_eagerly_outside_functions is deprecated. Please use tf.compat.v1.executing_eagerly_outside_functions instead.\n",
      "\n",
      "28/28 [==============================] - 2s 5ms/step - loss: 0.6679 - accuracy: 0.6850\n",
      "Epoch 2/100\n",
      "28/28 [==============================] - 0s 4ms/step - loss: 0.6315 - accuracy: 0.7075\n",
      "Epoch 3/100\n",
      "28/28 [==============================] - 0s 3ms/step - loss: 0.6098 - accuracy: 0.7087\n",
      "Epoch 4/100\n",
      "28/28 [==============================] - 0s 4ms/step - loss: 0.5786 - accuracy: 0.7278\n",
      "Epoch 5/100\n",
      "28/28 [==============================] - 0s 4ms/step - loss: 0.5564 - accuracy: 0.7255\n",
      "Epoch 6/100\n",
      "28/28 [==============================] - 0s 4ms/step - loss: 0.5401 - accuracy: 0.7458\n",
      "Epoch 7/100\n",
      "28/28 [==============================] - 0s 4ms/step - loss: 0.5229 - accuracy: 0.7593\n",
      "Epoch 8/100\n",
      "28/28 [==============================] - 0s 5ms/step - loss: 0.5014 - accuracy: 0.7548\n",
      "Epoch 9/100\n",
      "28/28 [==============================] - 0s 4ms/step - loss: 0.4879 - accuracy: 0.7784\n",
      "Epoch 10/100\n",
      "28/28 [==============================] - 0s 4ms/step - loss: 0.4782 - accuracy: 0.7987\n",
      "Epoch 11/100\n",
      "28/28 [==============================] - 0s 4ms/step - loss: 0.4584 - accuracy: 0.7987\n",
      "Epoch 12/100\n",
      "28/28 [==============================] - 0s 3ms/step - loss: 0.4372 - accuracy: 0.8290\n",
      "Epoch 13/100\n",
      "28/28 [==============================] - 0s 3ms/step - loss: 0.4221 - accuracy: 0.8425\n",
      "Epoch 14/100\n",
      "28/28 [==============================] - 0s 3ms/step - loss: 0.4182 - accuracy: 0.8380\n",
      "Epoch 15/100\n",
      "28/28 [==============================] - 0s 3ms/step - loss: 0.4012 - accuracy: 0.8571\n",
      "Epoch 16/100\n",
      "28/28 [==============================] - 0s 3ms/step - loss: 0.3884 - accuracy: 0.8583\n",
      "Epoch 17/100\n",
      "28/28 [==============================] - 0s 3ms/step - loss: 0.3768 - accuracy: 0.8560\n",
      "Epoch 18/100\n",
      "28/28 [==============================] - 0s 4ms/step - loss: 0.3770 - accuracy: 0.8515\n",
      "Epoch 19/100\n",
      "28/28 [==============================] - 0s 4ms/step - loss: 0.3657 - accuracy: 0.8628\n",
      "Epoch 20/100\n",
      "28/28 [==============================] - 0s 4ms/step - loss: 0.3606 - accuracy: 0.8583\n",
      "Epoch 21/100\n",
      "28/28 [==============================] - 0s 4ms/step - loss: 0.3485 - accuracy: 0.8650\n",
      "Epoch 22/100\n",
      "28/28 [==============================] - 0s 5ms/step - loss: 0.3376 - accuracy: 0.8763\n",
      "Epoch 23/100\n",
      "28/28 [==============================] - 0s 3ms/step - loss: 0.3317 - accuracy: 0.8729\n",
      "Epoch 24/100\n",
      "28/28 [==============================] - 0s 5ms/step - loss: 0.3243 - accuracy: 0.8729\n",
      "Epoch 25/100\n",
      "28/28 [==============================] - 0s 5ms/step - loss: 0.3149 - accuracy: 0.8774\n",
      "Epoch 26/100\n",
      "28/28 [==============================] - 0s 5ms/step - loss: 0.3077 - accuracy: 0.8785\n",
      "Epoch 27/100\n",
      "28/28 [==============================] - 0s 5ms/step - loss: 0.3042 - accuracy: 0.8796\n",
      "Epoch 28/100\n",
      "28/28 [==============================] - 0s 5ms/step - loss: 0.2931 - accuracy: 0.8909\n",
      "Epoch 29/100\n",
      "28/28 [==============================] - 0s 6ms/step - loss: 0.2908 - accuracy: 0.8886\n",
      "Epoch 30/100\n",
      "28/28 [==============================] - 0s 3ms/step - loss: 0.2817 - accuracy: 0.8886\n",
      "Epoch 31/100\n",
      "28/28 [==============================] - 0s 3ms/step - loss: 0.2730 - accuracy: 0.8886\n",
      "Epoch 32/100\n",
      "28/28 [==============================] - 0s 4ms/step - loss: 0.2628 - accuracy: 0.9010\n",
      "Epoch 33/100\n",
      "28/28 [==============================] - 0s 4ms/step - loss: 0.2588 - accuracy: 0.9021\n",
      "Epoch 34/100\n",
      "28/28 [==============================] - 0s 5ms/step - loss: 0.2563 - accuracy: 0.8988\n",
      "Epoch 35/100\n",
      "28/28 [==============================] - 0s 5ms/step - loss: 0.2481 - accuracy: 0.9055\n",
      "Epoch 36/100\n",
      "28/28 [==============================] - 0s 4ms/step - loss: 0.2370 - accuracy: 0.9123\n",
      "Epoch 37/100\n",
      "28/28 [==============================] - 0s 3ms/step - loss: 0.2244 - accuracy: 0.9224\n",
      "Epoch 38/100\n",
      "28/28 [==============================] - 0s 5ms/step - loss: 0.2205 - accuracy: 0.9246\n",
      "Epoch 39/100\n",
      "28/28 [==============================] - 0s 5ms/step - loss: 0.2104 - accuracy: 0.9269\n",
      "Epoch 40/100\n",
      "28/28 [==============================] - 0s 5ms/step - loss: 0.2081 - accuracy: 0.9258\n",
      "Epoch 41/100\n",
      "28/28 [==============================] - 0s 6ms/step - loss: 0.2035 - accuracy: 0.9291\n",
      "Epoch 42/100\n",
      "28/28 [==============================] - 0s 5ms/step - loss: 0.1926 - accuracy: 0.9325\n",
      "Epoch 43/100\n",
      "28/28 [==============================] - 0s 5ms/step - loss: 0.1879 - accuracy: 0.9381\n",
      "Epoch 44/100\n",
      "28/28 [==============================] - 0s 5ms/step - loss: 0.1796 - accuracy: 0.9415\n",
      "Epoch 45/100\n",
      "28/28 [==============================] - 0s 5ms/step - loss: 0.1703 - accuracy: 0.9460\n",
      "Epoch 46/100\n",
      "28/28 [==============================] - 0s 5ms/step - loss: 0.1719 - accuracy: 0.9404\n",
      "Epoch 47/100\n",
      "28/28 [==============================] - 0s 6ms/step - loss: 0.1393 - accuracy: 0.9561\n",
      "Epoch 48/100\n",
      "28/28 [==============================] - 0s 6ms/step - loss: 0.1354 - accuracy: 0.9584\n",
      "Epoch 49/100\n",
      "28/28 [==============================] - 0s 5ms/step - loss: 0.1214 - accuracy: 0.9719\n",
      "Epoch 50/100\n",
      "28/28 [==============================] - 0s 3ms/step - loss: 0.1183 - accuracy: 0.9719\n",
      "Epoch 51/100\n",
      "28/28 [==============================] - 0s 5ms/step - loss: 0.1088 - accuracy: 0.9730\n",
      "Epoch 52/100\n",
      "28/28 [==============================] - 0s 5ms/step - loss: 0.1085 - accuracy: 0.9786\n",
      "Epoch 53/100\n",
      "28/28 [==============================] - 0s 5ms/step - loss: 0.0991 - accuracy: 0.9753\n",
      "Epoch 54/100\n",
      "28/28 [==============================] - 0s 5ms/step - loss: 0.0886 - accuracy: 0.9843\n",
      "Epoch 55/100\n",
      "28/28 [==============================] - 0s 5ms/step - loss: 0.0956 - accuracy: 0.9798\n",
      "Epoch 56/100\n",
      "28/28 [==============================] - 0s 5ms/step - loss: 0.0891 - accuracy: 0.9786\n",
      "Epoch 57/100\n",
      "28/28 [==============================] - 0s 5ms/step - loss: 0.0748 - accuracy: 0.9865\n",
      "Epoch 58/100\n",
      "28/28 [==============================] - 0s 5ms/step - loss: 0.0862 - accuracy: 0.9809\n",
      "Epoch 59/100\n",
      "28/28 [==============================] - 0s 6ms/step - loss: 0.0717 - accuracy: 0.9854\n",
      "Epoch 60/100\n",
      "28/28 [==============================] - 0s 6ms/step - loss: 0.0789 - accuracy: 0.9820\n",
      "Epoch 61/100\n",
      "28/28 [==============================] - 0s 6ms/step - loss: 0.0734 - accuracy: 0.9843\n",
      "Epoch 62/100\n",
      "28/28 [==============================] - 0s 6ms/step - loss: 0.0676 - accuracy: 0.9854\n",
      "Epoch 63/100\n",
      "28/28 [==============================] - 0s 6ms/step - loss: 0.0621 - accuracy: 0.9899\n",
      "Epoch 64/100\n",
      "28/28 [==============================] - 0s 6ms/step - loss: 0.0606 - accuracy: 0.9876\n",
      "Epoch 65/100\n",
      "28/28 [==============================] - 0s 6ms/step - loss: 0.0590 - accuracy: 0.9876\n",
      "Epoch 66/100\n",
      "28/28 [==============================] - 0s 6ms/step - loss: 0.0582 - accuracy: 0.9876\n",
      "Epoch 67/100\n",
      "28/28 [==============================] - 0s 6ms/step - loss: 0.0539 - accuracy: 0.9899\n",
      "Epoch 68/100\n",
      "28/28 [==============================] - 0s 5ms/step - loss: 0.0581 - accuracy: 0.9843\n",
      "Epoch 69/100\n",
      "28/28 [==============================] - 0s 5ms/step - loss: 0.0523 - accuracy: 0.9888\n",
      "Epoch 70/100\n",
      "28/28 [==============================] - 0s 6ms/step - loss: 0.0512 - accuracy: 0.9910\n",
      "Epoch 71/100\n",
      "28/28 [==============================] - 0s 6ms/step - loss: 0.0535 - accuracy: 0.9899\n",
      "Epoch 72/100\n",
      "28/28 [==============================] - 0s 6ms/step - loss: 0.0477 - accuracy: 0.9888\n",
      "Epoch 73/100\n",
      "28/28 [==============================] - 0s 6ms/step - loss: 0.0453 - accuracy: 0.9899\n",
      "Epoch 74/100\n",
      "28/28 [==============================] - 0s 6ms/step - loss: 0.0468 - accuracy: 0.9876\n",
      "Epoch 75/100\n",
      "28/28 [==============================] - 0s 6ms/step - loss: 0.0421 - accuracy: 0.9910\n",
      "Epoch 76/100\n",
      "28/28 [==============================] - 0s 6ms/step - loss: 0.0459 - accuracy: 0.9899\n",
      "Epoch 77/100\n",
      "28/28 [==============================] - 0s 5ms/step - loss: 0.0444 - accuracy: 0.9888\n",
      "Epoch 78/100\n",
      "28/28 [==============================] - 0s 3ms/step - loss: 0.0462 - accuracy: 0.9888\n",
      "Epoch 79/100\n",
      "28/28 [==============================] - 0s 4ms/step - loss: 0.0445 - accuracy: 0.9899\n",
      "Epoch 80/100\n",
      "28/28 [==============================] - 0s 5ms/step - loss: 0.0410 - accuracy: 0.9899\n",
      "Epoch 81/100\n",
      "28/28 [==============================] - 0s 6ms/step - loss: 0.0413 - accuracy: 0.9899\n",
      "Epoch 82/100\n",
      "28/28 [==============================] - 0s 5ms/step - loss: 0.0383 - accuracy: 0.9899\n",
      "Epoch 83/100\n",
      "28/28 [==============================] - 0s 5ms/step - loss: 0.0431 - accuracy: 0.9876\n",
      "Epoch 84/100\n",
      "28/28 [==============================] - 0s 5ms/step - loss: 0.0452 - accuracy: 0.9831\n",
      "Epoch 85/100\n",
      "28/28 [==============================] - 0s 5ms/step - loss: 0.0399 - accuracy: 0.9888\n",
      "Epoch 86/100\n",
      "28/28 [==============================] - 0s 5ms/step - loss: 0.0379 - accuracy: 0.9888\n",
      "Epoch 87/100\n",
      "28/28 [==============================] - 0s 5ms/step - loss: 0.0400 - accuracy: 0.9865\n",
      "Epoch 88/100\n",
      "28/28 [==============================] - 0s 5ms/step - loss: 0.0388 - accuracy: 0.9910\n",
      "Epoch 89/100\n",
      "28/28 [==============================] - 0s 5ms/step - loss: 0.0452 - accuracy: 0.9865\n",
      "Epoch 90/100\n",
      "28/28 [==============================] - 0s 5ms/step - loss: 0.0395 - accuracy: 0.9876\n",
      "Epoch 91/100\n",
      "28/28 [==============================] - 0s 5ms/step - loss: 0.0345 - accuracy: 0.9888\n",
      "Epoch 92/100\n",
      "28/28 [==============================] - 0s 5ms/step - loss: 0.0344 - accuracy: 0.9899\n",
      "Epoch 93/100\n",
      "28/28 [==============================] - 0s 5ms/step - loss: 0.0341 - accuracy: 0.9910\n",
      "Epoch 94/100\n",
      "28/28 [==============================] - 0s 6ms/step - loss: 0.0337 - accuracy: 0.9888\n",
      "Epoch 95/100\n",
      "28/28 [==============================] - 0s 5ms/step - loss: 0.0318 - accuracy: 0.9921\n",
      "Epoch 96/100\n",
      "28/28 [==============================] - 0s 5ms/step - loss: 0.0338 - accuracy: 0.9910\n",
      "Epoch 97/100\n",
      "28/28 [==============================] - 0s 6ms/step - loss: 0.0328 - accuracy: 0.9910\n",
      "Epoch 98/100\n",
      "28/28 [==============================] - 0s 4ms/step - loss: 0.0308 - accuracy: 0.9910\n",
      "Epoch 99/100\n",
      "28/28 [==============================] - 0s 3ms/step - loss: 0.0299 - accuracy: 0.9921\n",
      "Epoch 100/100\n",
      "28/28 [==============================] - 0s 3ms/step - loss: 0.0304 - accuracy: 0.9899\n"
     ]
    },
    {
     "data": {
      "text/plain": [
       "<keras.src.callbacks.History at 0x22cdb0f4750>"
      ]
     },
     "execution_count": 71,
     "metadata": {},
     "output_type": "execute_result"
    }
   ],
   "source": [
    "# TO-DO : Model creation\n",
    "# Crée un objet modèle séquentiel\n",
    "model = Sequential()\n",
    "\n",
    "# Ajoute une première couche Dense avec 10 unités et activation ReLU\n",
    "model.add(Dense(10, activation=\"relu\", input_shape=(X_train_bis.shape[1],)))\n",
    "\n",
    "# Ajoute une deuxième couche Dense avec 5 unités et activation ReLU\n",
    "model.add(Dense(5, activation=\"relu\"))\n",
    "\n",
    "# Ajoute une troisième couche Dense avec une unité et activation Sigmoïde pour la classification binaire \n",
    "# (Survécu/N'a pas survécu)\n",
    "model.add(Dense(1, activation=\"sigmoid\"))\n",
    "\n",
    "# TO-DO : Model training\n",
    "# Configure le modèle pour l'optimisation par descente de gradient stochastique (SGD) avec l'optimiseur \n",
    "# Adam et la fonction de perte de cross-entropy binaire\n",
    "model.compile(loss=\"binary_crossentropy\", optimizer=\"adam\", metrics=[\"accuracy\"])\n",
    "\n",
    "# Entraîne le modèle pendant 100 époques sur les données d'entraînement X_train_bis et Y_train\n",
    "model.fit(X_train_bis, Y_train, epochs=100)"
   ]
  },
  {
   "cell_type": "markdown",
   "metadata": {},
   "source": [
    "### 6.2 Évaluation du modèle sur les données de test"
   ]
  },
  {
   "cell_type": "code",
   "execution_count": 73,
   "metadata": {
    "tags": []
   },
   "outputs": [
    {
     "name": "stdout",
     "output_type": "stream",
     "text": [
      "14/14 [==============================] - 0s 5ms/step\n"
     ]
    },
    {
     "data": {
      "text/plain": [
       "418"
      ]
     },
     "execution_count": 73,
     "metadata": {},
     "output_type": "execute_result"
    }
   ],
   "source": [
    "# This code transforms the results to binary (0 or 1) from the probabilities predicted by the model\n",
    "\n",
    "# Réalise les prédictions sur les données de test X_test_bis\n",
    "pred_val = model.predict(X_test_bis)\n",
    "\n",
    "# Convertit les prédictions en valeurs binaires (0 ou 1)\n",
    "pred_val = (pred_val > 0.5).astype(int).flatten()\n",
    "\n",
    "# Affiche la longueur des prédictions\n",
    "len(pred_val)"
   ]
  },
  {
   "cell_type": "markdown",
   "metadata": {},
   "source": [
    "### 6.3 Formation des résultats et préparation du fichier de sortie"
   ]
  },
  {
   "cell_type": "code",
   "execution_count": 75,
   "metadata": {
    "tags": []
   },
   "outputs": [
    {
     "data": {
      "text/html": [
       "<div>\n",
       "<style scoped>\n",
       "    .dataframe tbody tr th:only-of-type {\n",
       "        vertical-align: middle;\n",
       "    }\n",
       "\n",
       "    .dataframe tbody tr th {\n",
       "        vertical-align: top;\n",
       "    }\n",
       "\n",
       "    .dataframe thead th {\n",
       "        text-align: right;\n",
       "    }\n",
       "</style>\n",
       "<table border=\"1\" class=\"dataframe\">\n",
       "  <thead>\n",
       "    <tr style=\"text-align: right;\">\n",
       "      <th></th>\n",
       "      <th>PassengerId</th>\n",
       "      <th>Survived</th>\n",
       "    </tr>\n",
       "  </thead>\n",
       "  <tbody>\n",
       "    <tr>\n",
       "      <th>0</th>\n",
       "      <td>892</td>\n",
       "      <td>0</td>\n",
       "    </tr>\n",
       "    <tr>\n",
       "      <th>1</th>\n",
       "      <td>893</td>\n",
       "      <td>1</td>\n",
       "    </tr>\n",
       "    <tr>\n",
       "      <th>2</th>\n",
       "      <td>894</td>\n",
       "      <td>0</td>\n",
       "    </tr>\n",
       "    <tr>\n",
       "      <th>3</th>\n",
       "      <td>895</td>\n",
       "      <td>0</td>\n",
       "    </tr>\n",
       "    <tr>\n",
       "      <th>4</th>\n",
       "      <td>896</td>\n",
       "      <td>1</td>\n",
       "    </tr>\n",
       "  </tbody>\n",
       "</table>\n",
       "</div>"
      ],
      "text/plain": [
       "   PassengerId  Survived\n",
       "0          892         0\n",
       "1          893         1\n",
       "2          894         0\n",
       "3          895         0\n",
       "4          896         1"
      ]
     },
     "execution_count": 75,
     "metadata": {},
     "output_type": "execute_result"
    }
   ],
   "source": [
    "# This code formats the results to a submission format (Call the lab assistant to learn more about this !)\n",
    "\n",
    "# Crée un DataFrame avec les colonnes \"PassengerId\" et \"Survived\"\n",
    "formated_results = {'PassengerId' : df_test['PassengerId'], 'Survived' : pred_val}\n",
    "\n",
    "# Transforme le dictionnaire en DataFrame pandas\n",
    "formated_results = pd.DataFrame(formated_results)\n",
    "\n",
    "# Affiche les cinq premières lignes du DataFrame\n",
    "formated_results.head()"
   ]
  },
  {
   "cell_type": "markdown",
   "metadata": {},
   "source": [
    "### 6.4 Sauvegarde des résultats dans un fichier CSV"
   ]
  },
  {
   "cell_type": "code",
   "execution_count": 77,
   "metadata": {
    "tags": []
   },
   "outputs": [],
   "source": [
    "# Saving the results in a csv file\n",
    "# Sauvegarde le DataFrame formated_results dans un fichier CSV nommé \"results.csv\"\n",
    "formated_results.to_csv('data/titanic/results.csv', index = False)"
   ]
  },
  {
   "cell_type": "code",
   "execution_count": null,
   "metadata": {},
   "outputs": [],
   "source": []
  }
 ],
 "metadata": {
  "kernelspec": {
   "display_name": "Python 3 (ipykernel)",
   "language": "python",
   "name": "python3"
  },
  "language_info": {
   "codemirror_mode": {
    "name": "ipython",
    "version": 3
   },
   "file_extension": ".py",
   "mimetype": "text/x-python",
   "name": "python",
   "nbconvert_exporter": "python",
   "pygments_lexer": "ipython3",
   "version": "3.11.5"
  }
 },
 "nbformat": 4,
 "nbformat_minor": 4
}
