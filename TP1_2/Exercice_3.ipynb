{
 "cells": [
  {
   "cell_type": "markdown",
   "id": "f579e5f9",
   "metadata": {},
   "source": [
    "# Exercie 3: Comprendre la notion de surajustement et de sousajustement"
   ]
  },
  {
   "cell_type": "markdown",
   "id": "fb8bc763",
   "metadata": {},
   "source": [
    "Ce bloc-notes entraîne un modèle d'analyse des sentiments pour classer les critiques de films la base de données [ films Internet](https://www.imdb.com/) comme positives ou négatives , en fonction du texte de la critique. Il s'agit d'un exemple de classification binaire - ou à deux classes."
   ]
  },
  {
   "cell_type": "markdown",
   "id": "425bc0ab",
   "metadata": {},
   "source": [
    "## Importation des bibliothèques"
   ]
  },
  {
   "cell_type": "code",
   "execution_count": 14,
   "id": "dd2b72eb",
   "metadata": {
    "scrolled": false
   },
   "outputs": [],
   "source": [
    "import matplotlib.pyplot as plt\n",
    "import pandas as pd\n",
    "import os, re, shutil, string\n",
    "from pathlib import Path\n",
    "import tensorflow as tf\n",
    "from tensorflow.keras import layers, losses, utils, callbacks"
   ]
  },
  {
   "cell_type": "markdown",
   "id": "058ef23d",
   "metadata": {},
   "source": [
    "## Téléchargement et extraction du jeu de données IMDB"
   ]
  },
  {
   "cell_type": "code",
   "execution_count": 15,
   "id": "b52d6b30",
   "metadata": {},
   "outputs": [],
   "source": [
    "# ce code télécharge et extrait le fichier \"aclImdb_v1.tar.gz\" à partir de l'URL spécifiée, puis stocke \n",
    "# le fichier téléchargé dans le répertoire actuel.\n",
    "file_path = utils.get_file(\n",
    "    fname = \"db_imdb.tar.gz\", \n",
    "    origin = \"https://ai.stanford.edu/~amaas/data/sentiment/aclImdb_v1.tar.gz\",\n",
    "    extract=True, \n",
    "    archive_format='tar',\n",
    "    cache_dir='.', \n",
    "    cache_subdir='')"
   ]
  },
  {
   "cell_type": "code",
   "execution_count": 16,
   "id": "6ee5f013",
   "metadata": {},
   "outputs": [
    {
     "data": {
      "text/plain": [
       "'.\\\\db_imdb.tar.gz'"
      ]
     },
     "execution_count": 16,
     "metadata": {},
     "output_type": "execute_result"
    }
   ],
   "source": [
    "file_path"
   ]
  },
  {
   "cell_type": "markdown",
   "id": "12f37474",
   "metadata": {},
   "source": [
    "## Chemin du dossier du jeu de données"
   ]
  },
  {
   "cell_type": "code",
   "execution_count": 17,
   "id": "e8b07797",
   "metadata": {},
   "outputs": [
    {
     "data": {
      "text/plain": [
       "WindowsPath('c:/Users/Methery/Documents/ai_ininahazwe_methery/TP1_2/aclImdb')"
      ]
     },
     "execution_count": 17,
     "metadata": {},
     "output_type": "execute_result"
    }
   ],
   "source": [
    "# ce code crée un chemin vers un répertoire en utilisant le répertoire parent du chemin spécifié dans file_path et en \n",
    "# ajoutant le répertoire \"aclImdb\" à la fin.\n",
    "data_dir = Path(Path(file_path).parent, 'aclImdb')\n",
    "data_dir.absolute()"
   ]
  },
  {
   "cell_type": "markdown",
   "id": "3059529f",
   "metadata": {},
   "source": [
    "## Exploration du jeu de données"
   ]
  },
  {
   "cell_type": "markdown",
   "id": "66baf1ac",
   "metadata": {},
   "source": [
    "### Liste des fichiers et dossiers du jeu de données"
   ]
  },
  {
   "cell_type": "code",
   "execution_count": 18,
   "id": "3ee4348f",
   "metadata": {
    "scrolled": true
   },
   "outputs": [
    {
     "data": {
      "text/plain": [
       "['imdb.vocab', 'imdbEr.txt', 'README', 'test', 'train']"
      ]
     },
     "execution_count": 18,
     "metadata": {},
     "output_type": "execute_result"
    }
   ],
   "source": [
    "[entry.name for entry in data_dir.iterdir()]"
   ]
  },
  {
   "cell_type": "markdown",
   "id": "456f4b6d",
   "metadata": {},
   "source": [
    "### Liste des fichiers et dossiers du jeu d'entraînement"
   ]
  },
  {
   "cell_type": "code",
   "execution_count": 19,
   "id": "d09de477",
   "metadata": {
    "scrolled": true
   },
   "outputs": [
    {
     "name": "stdout",
     "output_type": "stream",
     "text": [
      "['labeledBow.feat', 'neg', 'pos', 'unsup', 'unsupBow.feat', 'urls_neg.txt', 'urls_pos.txt', 'urls_unsup.txt']\n"
     ]
    }
   ],
   "source": [
    "train_dir = Path(data_dir, 'train')\n",
    "print([entry.name for entry in train_dir.iterdir()])"
   ]
  },
  {
   "cell_type": "markdown",
   "id": "d2d6b83f",
   "metadata": {},
   "source": [
    "### Liste des fichiers et dossiers du jeu de test"
   ]
  },
  {
   "cell_type": "code",
   "execution_count": 20,
   "id": "374cf853",
   "metadata": {
    "scrolled": true
   },
   "outputs": [
    {
     "data": {
      "text/plain": [
       "['labeledBow.feat', 'neg', 'pos', 'urls_neg.txt', 'urls_pos.txt']"
      ]
     },
     "execution_count": 20,
     "metadata": {},
     "output_type": "execute_result"
    }
   ],
   "source": [
    "test_dir = Path(data_dir, 'test')\n",
    "[entry.name for entry in test_dir.iterdir()]"
   ]
  },
  {
   "cell_type": "markdown",
   "id": "0f9d4e3d",
   "metadata": {},
   "source": [
    "### Affichage d'un commentaire du jeu d'entrainement"
   ]
  },
  {
   "cell_type": "markdown",
   "id": "c62e827f",
   "metadata": {},
   "source": [
    "Les repertoires `aclImdb/train/pos` et `aclImdb/train/neg` contiennent de nombreux fichiers texte, dont chacun est une critique de film unique. Jetons un coup d'œil à l'un d'eux."
   ]
  },
  {
   "cell_type": "markdown",
   "id": "4f9fce9d",
   "metadata": {},
   "source": [
    "#### Nom des 5 premiers fichiers du repertoire des commentaires positifs"
   ]
  },
  {
   "cell_type": "code",
   "execution_count": 21,
   "id": "d68a0425",
   "metadata": {
    "scrolled": true
   },
   "outputs": [
    {
     "data": {
      "text/plain": [
       "['0_9.txt', '10000_8.txt', '10001_10.txt', '10002_7.txt', '10003_8.txt']"
      ]
     },
     "execution_count": 21,
     "metadata": {},
     "output_type": "execute_result"
    }
   ],
   "source": [
    "train_pos_dir = Path(train_dir, 'pos')\n",
    "comment_pos = [entry.name for entry in train_pos_dir.iterdir()]\n",
    "comment_pos[:5]"
   ]
  },
  {
   "cell_type": "markdown",
   "id": "3510f3a7",
   "metadata": {},
   "source": [
    "#### Affichage du premier commentaire"
   ]
  },
  {
   "cell_type": "code",
   "execution_count": 22,
   "id": "fa8a18cd",
   "metadata": {},
   "outputs": [
    {
     "name": "stdout",
     "output_type": "stream",
     "text": [
      "Bromwell High is a cartoon comedy. It ran at the same time as some other programs about school life, such as \"Teachers\". My 35 years in the teaching profession lead me to believe that Bromwell High's satire is much closer to reality than is \"Teachers\". The scramble to survive financially, the insightful students who can see right through their pathetic teachers' pomp, the pettiness of the whole situation, all remind me of the schools I knew and their students. When I saw the episode in which a student repeatedly tried to burn down the school, I immediately recalled ......... at .......... High. A classic line: INSPECTOR: I'm here to sack one of your teachers. STUDENT: Welcome to Bromwell High. I expect that many adults of my age think that Bromwell High is far fetched. What a pity that it isn't!\n"
     ]
    }
   ],
   "source": [
    "with open(Path(train_pos_dir, comment_pos[0]).absolute()) as f:\n",
    "    print(f.read())"
   ]
  },
  {
   "cell_type": "markdown",
   "id": "4ca6be0f",
   "metadata": {},
   "source": [
    "## Chargement du jeu de données"
   ]
  },
  {
   "cell_type": "markdown",
   "id": "0884ca66",
   "metadata": {},
   "source": [
    "### Suppresion du dossier `unsup` du jeu de données train"
   ]
  },
  {
   "cell_type": "code",
   "execution_count": 23,
   "id": "0826b739",
   "metadata": {},
   "outputs": [],
   "source": [
    "# La suppression évite de crée une troisième catégorie lors du chargement des données\n",
    "shutil.rmtree(Path(train_dir, 'unsup').absolute())"
   ]
  },
  {
   "cell_type": "markdown",
   "id": "9e22d907",
   "metadata": {},
   "source": [
    "### Chargement du jeu d'entrainement et validation"
   ]
  },
  {
   "cell_type": "code",
   "execution_count": 24,
   "id": "04d2c2d6",
   "metadata": {},
   "outputs": [],
   "source": [
    "# Les données seront divisées en lots, et chaque lot aura (total exemple)/32 exemples.\n",
    "batch_size = 32 \n",
    "\n",
    "# Initialise le générateur de nombres aléatoires. Elle garantit que les résultats seront reproductibles, \n",
    "# c'est-à-dire que chaque fois que le code est exécuté avec la même valeur de seed, les résultats seront les mêmes.\n",
    "seed = 42"
   ]
  },
  {
   "cell_type": "code",
   "execution_count": 25,
   "id": "034b124f",
   "metadata": {
    "scrolled": true
   },
   "outputs": [
    {
     "name": "stdout",
     "output_type": "stream",
     "text": [
      "Found 25000 files belonging to 2 classes.\n",
      "Using 20000 files for training.\n",
      "Using 5000 files for validation.\n"
     ]
    }
   ],
   "source": [
    "# Ce code créer un jeu de données à partir d'un répertoire contenant des fichiers texte\n",
    "raw_train_valid = utils.text_dataset_from_directory(\n",
    "    directory=train_dir,\n",
    "    batch_size=batch_size, \n",
    "    validation_split=0.2, # Pourcentage de données à utiliser pour la validation.\n",
    "    subset='both', # La partie du jeu de données à charger \"training\" (par défaut), \"validation\".\n",
    "    seed=seed)"
   ]
  },
  {
   "cell_type": "markdown",
   "id": "742c1d02",
   "metadata": {},
   "source": [
    "Cela signifie qu'il y a un total de 25000 fichiers dans le répertoire spécifié, répartis en 2 classes différentes. Parmi ces fichiers, 20000 sont utilisés pour l'entraînement du modèle et 5000 fichiers sont utilisés pour la validation."
   ]
  },
  {
   "cell_type": "markdown",
   "id": "230efcae",
   "metadata": {},
   "source": [
    "### Séparation des données d'entrînement et de validation"
   ]
  },
  {
   "cell_type": "code",
   "execution_count": 26,
   "id": "b02767e0",
   "metadata": {},
   "outputs": [],
   "source": [
    "# raw_train_valid = List(_BatchDataset, _BatchDataset)\n",
    "raw_train = raw_train_valid[0] # raw_train est le Jeu de données par lots (32 lots) _BatchDataset\n",
    "raw_valid = raw_train_valid[1] # raw_valid est le Jeu de données par lots (32 lots) _BatchDataset"
   ]
  },
  {
   "cell_type": "markdown",
   "id": "88f95139",
   "metadata": {},
   "source": [
    "### Affichage du premier commentaire du premier lot"
   ]
  },
  {
   "cell_type": "code",
   "execution_count": 27,
   "id": "d6e89e84",
   "metadata": {},
   "outputs": [
    {
     "name": "stdout",
     "output_type": "stream",
     "text": [
      "Etiquette: 0\n",
      "-------------------------------------\n",
      "Texte: \n",
      "b'\"Pandemonium\" is a horror movie spoof that comes off more stupid than funny. Believe me when I tell you, I love comedies. Especially comedy spoofs. \"Airplane\", \"The Naked Gun\" trilogy, \"Blazing Saddles\", \"High Anxiety\", and \"Spaceballs\" are some of my favorite comedies that spoof a particular genre. \"Pandemonium\" is not up there with those films. Most of the scenes in this movie had me sitting there in stunned silence because the movie wasn\\'t all that funny. There are a few laughs in the film, but when you watch a comedy, you expect to laugh a lot more than a few times and that\\'s all this film has going for it. Geez, \"Scream\" had more laughs than this film and that was more of a horror film. How bizarre is that?<br /><br />*1/2 (out of four)'\n"
     ]
    }
   ],
   "source": [
    "for text_batch, label_batch in raw_train.take(1):\n",
    "    for label in label_batch:\n",
    "        print(f\"Etiquette: {int(label.numpy())}\")\n",
    "        break\n",
    "    print(\"-------------------------------------\")\n",
    "    for text in text_batch:\n",
    "        print(f\"Texte: \\n{text.numpy()}\")\n",
    "        break"
   ]
  },
  {
   "cell_type": "markdown",
   "id": "e5fcf3b9",
   "metadata": {},
   "source": [
    "### Affichage des correspondance des classes"
   ]
  },
  {
   "cell_type": "code",
   "execution_count": 28,
   "id": "87f89a84",
   "metadata": {},
   "outputs": [
    {
     "name": "stdout",
     "output_type": "stream",
     "text": [
      "Etiquette 0 correspond à neg\n",
      "Etiquette 1 correspond à pos\n"
     ]
    }
   ],
   "source": [
    "print(\"Etiquette 0 correspond à\", raw_train.class_names[0])\n",
    "print(\"Etiquette 1 correspond à\", raw_train.class_names[1])"
   ]
  },
  {
   "cell_type": "code",
   "execution_count": 29,
   "id": "85e8541f",
   "metadata": {},
   "outputs": [],
   "source": [
    "labels = [\"négatif\", \"positif\"]"
   ]
  },
  {
   "cell_type": "markdown",
   "id": "ccaad085",
   "metadata": {},
   "source": [
    "Les étiquettes sont un tableau d'entiers, allant de 0 à 1.\n",
    " \n",
    "| Etiquette       | Description   |\n",
    "|-----------------|---------------|\n",
    "| 0               | Négatif       |\n",
    "| 1               | Positif       |\n"
   ]
  },
  {
   "cell_type": "markdown",
   "id": "f6d5fbe5",
   "metadata": {},
   "source": [
    "### Chargement du jeu de données de test"
   ]
  },
  {
   "cell_type": "code",
   "execution_count": 30,
   "id": "1fe05424",
   "metadata": {
    "scrolled": true
   },
   "outputs": [
    {
     "name": "stdout",
     "output_type": "stream",
     "text": [
      "Found 25000 files belonging to 2 classes.\n"
     ]
    }
   ],
   "source": [
    "raw_test = utils.text_dataset_from_directory(\n",
    "    directory=test_dir,\n",
    "    batch_size=batch_size, \n",
    ")"
   ]
  },
  {
   "cell_type": "markdown",
   "id": "ee442735",
   "metadata": {},
   "source": [
    "Cela signifie qu'il y a un total de 25000 fichiers dans le répertoire spécifié, répartis en 2 classes différentes."
   ]
  },
  {
   "cell_type": "markdown",
   "id": "ba6e14e7",
   "metadata": {},
   "source": [
    "### Détail des 3 ensembles de données"
   ]
  },
  {
   "cell_type": "markdown",
   "id": "53a1bb2c",
   "metadata": {},
   "source": [
    "#### Détail du jeu d'entrainement"
   ]
  },
  {
   "cell_type": "code",
   "execution_count": 31,
   "id": "88475bc7",
   "metadata": {},
   "outputs": [
    {
     "name": "stdout",
     "output_type": "stream",
     "text": [
      "Le jeu d'entrainement contient 32 lots, et chaque lot contient 625 commentaires, ce qui fait un total 20000 commentaires.\n",
      "\n",
      "- 10038 commentaires avec l'étiquette 'négatif'\n",
      "- 9962 commentaires avec l'étiquette 'positif'\n"
     ]
    }
   ],
   "source": [
    "train_label = []\n",
    "for text_batch, label_batch in raw_train:\n",
    "    for label in label_batch:\n",
    "        train_label.append(label.numpy())\n",
    "        \n",
    "print(f\"Le jeu d'entrainement contient {batch_size} lots, et chaque lot contient {len(raw_train)} commentaires, \"\n",
    "     f\"ce qui fait un total {len(train_label)} commentaires.\")\n",
    "\n",
    "print()\n",
    "# Compter le nombre de commentaire pour chaque étiquette du jeu d'entraînement\n",
    "train_label_distinct = pd.Series(train_label).value_counts()\n",
    "for i in range(0, len(train_label_distinct.array)):\n",
    "    print(f\"- {train_label_distinct[i]} commentaires avec l'étiquette '{labels[i]}'\")"
   ]
  },
  {
   "cell_type": "markdown",
   "id": "91854397",
   "metadata": {},
   "source": [
    "#### Détail du jeu de validation"
   ]
  },
  {
   "cell_type": "code",
   "execution_count": 32,
   "id": "8da91966",
   "metadata": {},
   "outputs": [
    {
     "name": "stdout",
     "output_type": "stream",
     "text": [
      "Le jeu d'entrainement contient 32 lots, et chaque lot contient 157 commentaires, ce qui fait un total 5000 commentaires.\n",
      "\n",
      "- 2462 commentaires avec l'étiquette 'négatif'\n",
      "- 2538 commentaires avec l'étiquette 'positif'\n"
     ]
    }
   ],
   "source": [
    "valid_label = []\n",
    "for text_batch, label_batch in raw_valid:        \n",
    "    for label in label_batch:\n",
    "        valid_label.append(label.numpy())\n",
    "        \n",
    "print(f\"Le jeu d'entrainement contient {batch_size} lots, et chaque lot contient {len(raw_valid)} commentaires, \"\n",
    "     f\"ce qui fait un total {len(valid_label)} commentaires.\")\n",
    "\n",
    "print()\n",
    "# Compter le nombre de commentaire pour chaque étiquette du jeu de validation\n",
    "valid_label_distinct = pd.Series(valid_label).value_counts()\n",
    "for i in range(0, len(valid_label_distinct.array)):\n",
    "    print(f\"- {valid_label_distinct[i]} commentaires avec l'étiquette '{labels[i]}'\")"
   ]
  },
  {
   "cell_type": "markdown",
   "id": "0fa982a9",
   "metadata": {},
   "source": [
    "#### Détail du jeu de test"
   ]
  },
  {
   "cell_type": "code",
   "execution_count": 33,
   "id": "5c7db049",
   "metadata": {
    "scrolled": true
   },
   "outputs": [
    {
     "name": "stdout",
     "output_type": "stream",
     "text": [
      "Le jeu d'entrainement contient 32 lots, et chaque lot contient 782 commentaires, ce qui fait un total 25000 commentaires.\n",
      "\n",
      "- 12500 commentaires avec l'étiquette 'négatif'\n",
      "- 12500 commentaires avec l'étiquette 'positif'\n"
     ]
    }
   ],
   "source": [
    "test_label = []\n",
    "for text_batch, label_batch in raw_test: \n",
    "    for label in label_batch:\n",
    "        test_label.append(label.numpy())\n",
    "        \n",
    "print(f\"Le jeu d'entrainement contient {batch_size} lots, et chaque lot contient {len(raw_test)} commentaires, \"\n",
    "     f\"ce qui fait un total {len(test_label)} commentaires.\")\n",
    "\n",
    "print()\n",
    "# Compter le nombre de commentaire pour chaque étiquette du jeu de test\n",
    "test_label_distinct = pd.Series(test_label).value_counts()\n",
    "for i in range(0, len(test_label_distinct.array)):\n",
    "    print(f\"- {test_label_distinct[i]} commentaires avec l'étiquette '{labels[i]}'\")"
   ]
  },
  {
   "cell_type": "markdown",
   "id": "f323a010",
   "metadata": {},
   "source": [
    "#### Remarque"
   ]
  },
  {
   "cell_type": "code",
   "execution_count": 34,
   "id": "d1fd0e37",
   "metadata": {},
   "outputs": [
    {
     "name": "stdout",
     "output_type": "stream",
     "text": [
      "- 12500 commentaires avec l'étiquette 'négatif'\n",
      "- 12500 commentaires avec l'étiquette 'positif'\n"
     ]
    }
   ],
   "source": [
    "# Somme des valeurs distinctes d'apprentissage et de validation\n",
    "train_valid_distinct = train_label_distinct + valid_label_distinct\n",
    "for i in range(0, len(train_valid_distinct.array)):\n",
    "    print(f\"- {train_valid_distinct[i]} commentaires avec l'étiquette '{labels[i]}'\")"
   ]
  },
  {
   "cell_type": "markdown",
   "id": "d6dacfb9",
   "metadata": {},
   "source": [
    "Les ensembles de formation et de test sont équilibrés , ce qui signifie qu'ils contiennent un nombre égal d'avis positifs et négatifs."
   ]
  },
  {
   "cell_type": "markdown",
   "id": "9f5c7817",
   "metadata": {},
   "source": [
    "## Prétraitement des données"
   ]
  },
  {
   "cell_type": "markdown",
   "id": "9dcaa5ef",
   "metadata": {},
   "source": [
    "### Définition de fonctions utilitaires"
   ]
  },
  {
   "cell_type": "code",
   "execution_count": 35,
   "id": "f50b444a",
   "metadata": {},
   "outputs": [],
   "source": [
    "def standardization(data):\n",
    "    \"\"\"\n",
    "    Cette fonction réalise une normalisation du texte en effectuant les étapes suivantes:\n",
    "    \n",
    "    - Conversion en minuscules (lowercase) de toutes les caractères du texte.\n",
    "    - Suppression des balises HTML \"<br />\" et remplacement par un espace.\n",
    "    - Suppression de la ponctuation en utilisant une expression régulière.\n",
    "    \n",
    "    Paramètres:\n",
    "    -----------\n",
    "    data : tensorflow.Tensor\n",
    "        Le texte à normaliser.\n",
    "    \n",
    "    Retour:\n",
    "    -------\n",
    "    tensorflow.Tensor\n",
    "        Le texte normalisé.\n",
    "    \"\"\"\n",
    "    lowercase = tf.strings.lower(data)\n",
    "    stripped_html = tf.strings.regex_replace(lowercase, '<br />', ' ')\n",
    "    return tf.strings.regex_replace(stripped_html, f'[{re.escape(string.punctuation)}]','')\n",
    "\n",
    "\n",
    "\n",
    "def vectorize_text(text, label):\n",
    "    \"\"\"\n",
    "    Cette fonction prend en entrée un texte et une étiquette, puis effectue les opérations suivantes :\n",
    "    \n",
    "    - Utilise la fonction `tensorflow.expand_dims` pour ajouter une dimension à la fin du texte.\n",
    "    - Applique la couche de vectorisation `vectorize_layer` au texte pour le convertir en une séquence d'entiers.\n",
    "    \n",
    "    Paramètres :\n",
    "    -----------\n",
    "    text : tensorflow.Tensor\n",
    "        Le texte à vectoriser.\n",
    "    \n",
    "    Retour :\n",
    "    -------\n",
    "    tensorflow.Tensor, tensorflow.Tensor\n",
    "        Le texte vectorisé.\n",
    "    \"\"\"\n",
    "    text = tf.expand_dims(text, -1)\n",
    "    return vectorize_layer(text), label # vectorizer([phrase])"
   ]
  },
  {
   "cell_type": "markdown",
   "id": "d8f0e39a",
   "metadata": {},
   "source": [
    "### Configure d'une couche de vectorisation"
   ]
  },
  {
   "cell_type": "code",
   "execution_count": 36,
   "id": "19ca8ea2",
   "metadata": {},
   "outputs": [],
   "source": [
    "# Ce code configure une couche de vectorisation de texte qui prendra en compte au maximum 10 000 caractéristiques \n",
    "# différentes (tokens) et qui transformera les séquences de texte en vecteurs de longueur 250.\n",
    "\n",
    "# Il s'agit du nombre maximum de jetons (mots ou caractères) à conserver lors de la vectorisation. Les max_tokens \n",
    "# jetons les plus fréquents seront conservés, et les autres seront ignorés.\n",
    "max_features = 10000 \n",
    "\n",
    "# Il s'agit de la longueur de la séquence de sortie. Les séquences plus courtes que output_sequence_length seront \n",
    "# remplies avec des zéros à la fin, tandis que les séquences plus longues seront tronquées.\n",
    "sequence_length = 250\n",
    "\n",
    "vectorize_layer = layers.TextVectorization(\n",
    "    standardize=standardization,\n",
    "    max_tokens=max_features,\n",
    "    output_mode='int', # la sortie sera une séquence d'entiers représentant les jetons du texte.\n",
    "    output_sequence_length=sequence_length)"
   ]
  },
  {
   "cell_type": "markdown",
   "id": "db577245",
   "metadata": {},
   "source": [
    "### Création d'un jeu de données uniquement textuel (sans étiquettes)"
   ]
  },
  {
   "cell_type": "code",
   "execution_count": 37,
   "id": "3c20f946",
   "metadata": {},
   "outputs": [],
   "source": [
    "train_text = raw_train.map(lambda x_batch, y_batch: x_batch)"
   ]
  },
  {
   "cell_type": "markdown",
   "id": "0ae717c8",
   "metadata": {},
   "source": [
    "### Adaptation de la couche de vectorisation aux données d'entraînement"
   ]
  },
  {
   "cell_type": "code",
   "execution_count": 38,
   "id": "4eda501f",
   "metadata": {},
   "outputs": [],
   "source": [
    "# La méthode adapt() est utilisée pour calculer les statistiques nécessaires à la vectorisation des données. \n",
    "# Elle analyse les données d'entraînement et détermine les caractéristiques nécessaires pour effectuer la \n",
    "# transformation. Cela peut inclure la création d'un vocabulaire de mots uniques, le calcul de la fréquence des mots, etc.\n",
    "vectorize_layer.adapt(train_text)"
   ]
  },
  {
   "cell_type": "markdown",
   "id": "8a113e20",
   "metadata": {},
   "source": [
    "### Exemple de vectorisation"
   ]
  },
  {
   "cell_type": "code",
   "execution_count": 39,
   "id": "3597d0b4",
   "metadata": {},
   "outputs": [
    {
     "name": "stdout",
     "output_type": "stream",
     "text": [
      "Etiquette: négatif \n",
      "\n",
      "Commentaire: \n",
      "b'Belmondo is a tough cop. He goes after a big-time drug dealer (played by Henry Silva, normally a great villain - see \"Sharky\\'s Machine\"; but here he is clearly dubbed, and because of that he lacks his usual charisma). He goes to the scuzziest places of Paris and Marseilles, asks for some names, beats up some people, gets the names, goes to more scuzzy places, asks for more names, beats up more people, etc. The whole movie is punch after punch after punch. It seems that the people who made it had no other ambition than to create the French equivalent of \"Dirty Harry\". Belmondo, who was 50 here, does perform some good stunts at the beginning; apart from those, \"Le Marginal\" is a violent, episodic, trite, shallow and forgettable cop movie. (*1/2)'\n",
      "\n",
      "Commentaire vectorisé: \n",
      "(<tf.Tensor: shape=(1, 250), dtype=int64, numpy=\n",
      "array([[   1,    7,    4, 1233, 1021,   27,  261,  101,    4,    1, 1525,\n",
      "        6992,  248,   32, 1488,    1, 1659,    4,   86, 1011,   67,    1,\n",
      "        1707,   18,  128,   27,    7,  688, 2396,    3,   84,    5,   12,\n",
      "          27, 1453,   24,  616, 3314,   27,  261,    6,    2,    1, 1329,\n",
      "           5, 1371,    3,    1, 1581,   15,   46, 1356, 3612,   56,   46,\n",
      "          79,  201,    2, 1356,  261,    6,   50,    1, 1329, 1581,   15,\n",
      "          50, 1356, 3612,   56,   50,   79,  532,    2,  211,   17,    7,\n",
      "        2851,  101, 2851,  101, 2851,    9,  180,   12,    2,   79,   36,\n",
      "          90,    9,   66,   57,   78, 5415,   70,    6,  916,    2,  800,\n",
      "        4891,    5, 1678, 1347,    1,   36,   13, 1732,  128,  120, 3078,\n",
      "          46,   49, 3274,   31,    2,  435,  948,   35,  143, 3519,    1,\n",
      "           7,    4, 1097, 9578, 3092, 2056,    3, 2512, 1021,   17, 1105,\n",
      "           0,    0,    0,    0,    0,    0,    0,    0,    0,    0,    0,\n",
      "           0,    0,    0,    0,    0,    0,    0,    0,    0,    0,    0,\n",
      "           0,    0,    0,    0,    0,    0,    0,    0,    0,    0,    0,\n",
      "           0,    0,    0,    0,    0,    0,    0,    0,    0,    0,    0,\n",
      "           0,    0,    0,    0,    0,    0,    0,    0,    0,    0,    0,\n",
      "           0,    0,    0,    0,    0,    0,    0,    0,    0,    0,    0,\n",
      "           0,    0,    0,    0,    0,    0,    0,    0,    0,    0,    0,\n",
      "           0,    0,    0,    0,    0,    0,    0,    0,    0,    0,    0,\n",
      "           0,    0,    0,    0,    0,    0,    0,    0,    0,    0,    0,\n",
      "           0,    0,    0,    0,    0,    0,    0,    0,    0,    0,    0,\n",
      "           0,    0,    0,    0,    0,    0,    0,    0]], dtype=int64)>, <tf.Tensor: shape=(), dtype=int32, numpy=0>)\n"
     ]
    }
   ],
   "source": [
    "text_batch, label_batch = next(iter(raw_train))\n",
    "first_review, first_label = text_batch[0], label_batch[0]\n",
    "text_vectorized = vectorize_text(first_review, first_label)\n",
    "\n",
    "print(f\"Etiquette: {labels[int(first_label.numpy())]} \\n\")\n",
    "print(f\"Commentaire: \\n{first_review.numpy()}\\n\")\n",
    "print(f\"Commentaire vectorisé: \\n{text_vectorized}\")"
   ]
  },
  {
   "cell_type": "markdown",
   "id": "82188192",
   "metadata": {},
   "source": [
    "### Vérification de la correspondence jeton du texte et entier dans le tabelau de vectorisation"
   ]
  },
  {
   "cell_type": "code",
   "execution_count": 40,
   "id": "e01d056c",
   "metadata": {},
   "outputs": [
    {
     "name": "stdout",
     "output_type": "stream",
     "text": [
      "Le mot 'cop' correspond au nombre 1021\n"
     ]
    }
   ],
   "source": [
    "vocabular = vectorize_layer.get_vocabulary() # Vocabulaire utilisé par la couche de vectorisation vectorize_layer\n",
    "index = text_vectorized[0][0][4] # Récupère l'index du cinquième mot dans le texte vectorisé text_vectorized\n",
    "\n",
    "# Affiche le mot correspondant à l'index dans le vocabulaire\n",
    "print(f\"Le mot '{vocabular[index]}' correspond au nombre {index}\")"
   ]
  },
  {
   "cell_type": "markdown",
   "id": "6c48ca17",
   "metadata": {},
   "source": [
    "### Vectorisation des jeux de données d'apprentissage, de validation et de test"
   ]
  },
  {
   "cell_type": "code",
   "execution_count": 41,
   "id": "28df1e74",
   "metadata": {},
   "outputs": [],
   "source": [
    "train_vect = raw_train.map(vectorize_text)\n",
    "valid_vect = raw_valid.map(vectorize_text)\n",
    "test_vect = raw_test.map(vectorize_text)"
   ]
  },
  {
   "cell_type": "markdown",
   "id": "2452a17c",
   "metadata": {},
   "source": [
    "## Configurer l'ensemble de données pour les performances"
   ]
  },
  {
   "cell_type": "code",
   "execution_count": 42,
   "id": "a233f885",
   "metadata": {},
   "outputs": [],
   "source": [
    "# Ce code optimise le chargement et la préparation des données en mettant en cache les données en mémoire et en \n",
    "# préchargeant les données en arrière-plan. Cela permet d'accélérer l'entraînement et l'évaluation des modèles \n",
    "# d'apprentissage automatique en réduisant les temps d'attente pour les données.\n",
    "AUTOTUNE = tf.data.AUTOTUNE\n",
    "train_ds = train_vect.cache().prefetch(buffer_size=AUTOTUNE)\n",
    "val_ds = valid_vect.cache().prefetch(buffer_size=AUTOTUNE)\n",
    "test_ds = test_vect.cache().prefetch(buffer_size=AUTOTUNE)"
   ]
  },
  {
   "cell_type": "markdown",
   "id": "0c9b5a84",
   "metadata": {},
   "source": [
    "## Construction du modèle"
   ]
  },
  {
   "cell_type": "markdown",
   "id": "d39e16f3",
   "metadata": {},
   "source": [
    "### Mise en palce des couches"
   ]
  },
  {
   "cell_type": "code",
   "execution_count": 43,
   "id": "b5d27ca0",
   "metadata": {},
   "outputs": [
    {
     "name": "stdout",
     "output_type": "stream",
     "text": [
      "Model: \"sequential\"\n",
      "_________________________________________________________________\n",
      " Layer (type)                Output Shape              Param #   \n",
      "=================================================================\n",
      " embedding (Embedding)       (None, None, 16)          160016    \n",
      "                                                                 \n",
      " dropout (Dropout)           (None, None, 16)          0         \n",
      "                                                                 \n",
      " global_average_pooling1d (  (None, 16)                0         \n",
      " GlobalAveragePooling1D)                                         \n",
      "                                                                 \n",
      " dropout_1 (Dropout)         (None, 16)                0         \n",
      "                                                                 \n",
      " dense (Dense)               (None, 1)                 17        \n",
      "                                                                 \n",
      "=================================================================\n",
      "Total params: 160033 (625.13 KB)\n",
      "Trainable params: 160033 (625.13 KB)\n",
      "Non-trainable params: 0 (0.00 Byte)\n",
      "_________________________________________________________________\n"
     ]
    }
   ],
   "source": [
    "# la couche d'embedding est utilisée pour convertir des entiers représentant des mots en vecteurs denses de taille \n",
    "# embedding_dim. La valeur max_features + 1 représente le nombre total de mots possibles dans le vocabulaire.\n",
    "\n",
    "embedding_dim = 16 # chaque entiers de mot sera représenté par un vecteur de dimension 16\n",
    "model = tf.keras.Sequential([\n",
    "  layers.Embedding(max_features + 1, embedding_dim), # représentation vectorielle dense d'un mot\n",
    "  layers.Dropout(0.2),\n",
    "  layers.GlobalAveragePooling1D(), # Reduction de dimension\n",
    "  layers.Dropout(0.2),\n",
    "  layers.Dense(1)])\n",
    "\n",
    "model.summary()"
   ]
  },
  {
   "cell_type": "markdown",
   "id": "17021fdd",
   "metadata": {},
   "source": [
    "### Configuration du model"
   ]
  },
  {
   "cell_type": "code",
   "execution_count": 44,
   "id": "d1c5f00d",
   "metadata": {},
   "outputs": [],
   "source": [
    "# Ce code compile le modèle en spécifiant la fonction de perte, l'optimiseur et les métriques à \n",
    "# utiliser lors de l'apprentissage. La fonction de perte \"BinaryCrossentropy\" est utilisée pour évaluer la différence \n",
    "# entre les prédictions et les valeurs réelles, l'optimiseur \"adam\" est utilisé pour ajuster les poids du modèle, et \n",
    "# la métrique \"BinaryAccuracy\" est utilisée pour évaluer les performances du modèle pendant l'entraînement.\n",
    "\n",
    "# L'argument from_logits=True indique que les prédictions du modèle ne sont pas normalisées et doivent être transformées en \n",
    "# probabilités à l'aide d'une fonction d'activation appropriée.\n",
    "\n",
    "# L'argument threshold=0.0 spécifie le seuil utilisé pour déterminer si une prédiction est considérée comme \n",
    "# positive ou négative\n",
    "model.compile(loss=losses.BinaryCrossentropy(from_logits=True),\n",
    "              optimizer='adam',\n",
    "              metrics=tf.metrics.BinaryAccuracy(threshold=0.0))"
   ]
  },
  {
   "cell_type": "markdown",
   "id": "60b50dc7",
   "metadata": {},
   "source": [
    "### Ajustement du modèle"
   ]
  },
  {
   "cell_type": "code",
   "execution_count": 45,
   "id": "ebbc306a",
   "metadata": {},
   "outputs": [
    {
     "name": "stdout",
     "output_type": "stream",
     "text": [
      "Epoch 1/10\n"
     ]
    },
    {
     "name": "stdout",
     "output_type": "stream",
     "text": [
      "625/625 [==============================] - 9s 13ms/step - loss: 0.6615 - binary_accuracy: 0.6930 - val_loss: 0.6106 - val_binary_accuracy: 0.7756\n",
      "Epoch 2/10\n",
      "625/625 [==============================] - 3s 5ms/step - loss: 0.5443 - binary_accuracy: 0.8033 - val_loss: 0.4949 - val_binary_accuracy: 0.8220\n",
      "Epoch 3/10\n",
      "625/625 [==============================] - 3s 5ms/step - loss: 0.4415 - binary_accuracy: 0.8456 - val_loss: 0.4179 - val_binary_accuracy: 0.8478\n",
      "Epoch 4/10\n",
      "625/625 [==============================] - 3s 5ms/step - loss: 0.3763 - binary_accuracy: 0.8673 - val_loss: 0.3722 - val_binary_accuracy: 0.8586\n",
      "Epoch 5/10\n",
      "625/625 [==============================] - 3s 5ms/step - loss: 0.3337 - binary_accuracy: 0.8797 - val_loss: 0.3443 - val_binary_accuracy: 0.8674\n",
      "Epoch 6/10\n",
      "625/625 [==============================] - 3s 5ms/step - loss: 0.3031 - binary_accuracy: 0.8900 - val_loss: 0.3252 - val_binary_accuracy: 0.8718\n",
      "Epoch 7/10\n",
      "625/625 [==============================] - 3s 5ms/step - loss: 0.2803 - binary_accuracy: 0.8979 - val_loss: 0.3121 - val_binary_accuracy: 0.8734\n",
      "Epoch 8/10\n",
      "625/625 [==============================] - 3s 5ms/step - loss: 0.2612 - binary_accuracy: 0.9038 - val_loss: 0.3028 - val_binary_accuracy: 0.8756\n",
      "Epoch 9/10\n",
      "625/625 [==============================] - 3s 5ms/step - loss: 0.2441 - binary_accuracy: 0.9107 - val_loss: 0.2964 - val_binary_accuracy: 0.8794\n",
      "Epoch 10/10\n",
      "625/625 [==============================] - 3s 5ms/step - loss: 0.2301 - binary_accuracy: 0.9177 - val_loss: 0.2916 - val_binary_accuracy: 0.8794\n"
     ]
    }
   ],
   "source": [
    "epochs=10\n",
    "history = model.fit(train_ds, validation_data=val_ds, epochs=epochs)"
   ]
  },
  {
   "cell_type": "markdown",
   "id": "d392a1d8",
   "metadata": {},
   "source": [
    "### Evaluation du modèle"
   ]
  },
  {
   "cell_type": "code",
   "execution_count": 46,
   "id": "e7b1530b",
   "metadata": {},
   "outputs": [
    {
     "name": "stdout",
     "output_type": "stream",
     "text": [
      "  1/782 [..............................] - ETA: 1:40 - loss: 0.2714 - binary_accuracy: 0.9062"
     ]
    },
    {
     "name": "stdout",
     "output_type": "stream",
     "text": [
      "782/782 [==============================] - 7s 9ms/step - loss: 0.3099 - binary_accuracy: 0.8732\n",
      "Perte:  0.309900164604187\n",
      "Accuracy:  0.8731600046157837\n"
     ]
    }
   ],
   "source": [
    "loss, accuracy = model.evaluate(test_ds)\n",
    "\n",
    "print(\"Perte: \", loss)\n",
    "print(\"Accuracy: \", accuracy)"
   ]
  },
  {
   "cell_type": "markdown",
   "id": "847222b8",
   "metadata": {},
   "source": [
    "## Créer un graphique de précision et de perte"
   ]
  },
  {
   "cell_type": "code",
   "execution_count": 47,
   "id": "dc706c0e",
   "metadata": {},
   "outputs": [
    {
     "data": {
      "text/plain": [
       "dict_keys(['loss', 'binary_accuracy', 'val_loss', 'val_binary_accuracy'])"
      ]
     },
     "execution_count": 47,
     "metadata": {},
     "output_type": "execute_result"
    }
   ],
   "source": [
    "# La variable history_dict est un dictionnaire qui contient les métriques et les pertes du modèle lors de l'apprentissage\n",
    "# (tout ce qui s'est passé pendant l'entraînement)\n",
    "history_dict = history.history\n",
    "history_dict.keys()"
   ]
  },
  {
   "cell_type": "code",
   "execution_count": 48,
   "id": "3f5446e8",
   "metadata": {},
   "outputs": [],
   "source": [
    "_epochs = range(1, epochs + 1)"
   ]
  },
  {
   "cell_type": "markdown",
   "id": "e696b032",
   "metadata": {},
   "source": [
    "### Graphique de perte de formation et de validation "
   ]
  },
  {
   "cell_type": "code",
   "execution_count": 49,
   "id": "94c28b6c",
   "metadata": {},
   "outputs": [
    {
     "data": {
      "image/png": "[encoded data removed]",
      "text/plain": [
       "<Figure size 640x480 with 1 Axes>"
      ]
     },
     "metadata": {},
     "output_type": "display_data"
    }
   ],
   "source": [
    "plt.plot(_epochs, history_dict['loss'], 'bo', label=\"Perte d'apprentissage\")\n",
    "plt.plot(_epochs, history_dict['val_loss'], 'b', label='Perte de validation')\n",
    "plt.title('Perte de formation et de validation')\n",
    "plt.xlabel('Epoque')\n",
    "plt.ylabel('Perte')\n",
    "plt.legend()\n",
    "plt.show()"
   ]
  },
  {
   "cell_type": "markdown",
   "id": "5731916e",
   "metadata": {},
   "source": [
    "### Graphique de la précision de la formation et de la validation "
   ]
  },
  {
   "cell_type": "code",
   "execution_count": 50,
   "id": "c0b63f12",
   "metadata": {},
   "outputs": [
    {
     "data": {
      "image/png": "[encoded data removed]",
      "text/plain": [
       "<Figure size 640x480 with 1 Axes>"
      ]
     },
     "metadata": {},
     "output_type": "display_data"
    }
   ],
   "source": [
    "plt.plot(_epochs, history_dict['binary_accuracy'], 'bo', label=\"Accuracy d'apprentissage\")\n",
    "plt.plot(_epochs, history_dict['val_binary_accuracy'], 'b', label='Accuracy de validation')\n",
    "plt.title('Accuracy de formation et de validation')\n",
    "plt.xlabel('Epoque')\n",
    "plt.ylabel('Accuracy')\n",
    "plt.legend(loc='lower right')\n",
    "plt.show()"
   ]
  },
  {
   "cell_type": "markdown",
   "id": "577fbdfc",
   "metadata": {},
   "source": [
    "Dans ce graphique, les points représentent la perte d'apprentissage et la précision, et les lignes pleines représentent la perte de validation et la précision.\n",
    "\n",
    "Il est important de noter que la perte d'apprentissage diminue à chaque époque, tandis que la précision de l'apprentissage augmente. Cela est prévu lorsqu'on utilise une optimisation par descente de gradient, car elle vise à minimiser la quantité souhaitée à chaque itération.\n",
    "\n",
    "Cependant, ce n'est pas le cas pour la perte de validation et la précision. Elles semblent atteindre leur maximum avant la précision de l'apprentissage. Cela est un exemple de surajustement, où le modèle performe mieux sur les données d'apprentissage que sur des données qu'il n'a jamais vues auparavant. Après ce point, le modèle sur-optimise et apprend des représentations spécifiques aux données d'apprentissage qui ne se généralisent pas aux données de test."
   ]
  },
  {
   "cell_type": "markdown",
   "id": "1c875b9a",
   "metadata": {},
   "source": [
    "## Arrêtons le modèle avant qui'il soit mauvais"
   ]
  },
  {
   "cell_type": "markdown",
   "id": "56acf243",
   "metadata": {},
   "source": [
    "Le surajustement en arrêtant simplement l'entraînement lorsque la précision de la validation n'augmente plus. Une façon de le faire est d'utiliser le rappel tf.keras.callbacks.EarlyStopping.\n",
    "Le rappel anticipé tf.keras.callbacks.EarlyStopping est utilisé dans TensorFlow pour arrêter l'entraînement \n",
    "d'un modèle de réseau neuronal plus tôt si une certaine condition est remplie."
   ]
  },
  {
   "cell_type": "code",
   "execution_count": 51,
   "id": "df3ac166",
   "metadata": {
    "scrolled": false
   },
   "outputs": [
    {
     "name": "stdout",
     "output_type": "stream",
     "text": [
      "Epoch 1/30\n"
     ]
    },
    {
     "name": "stdout",
     "output_type": "stream",
     "text": [
      "625/625 [==============================] - 4s 5ms/step - loss: 0.6640 - binary_accuracy: 0.6911 - val_loss: 0.6144 - val_binary_accuracy: 0.7754\n",
      "Epoch 2/30\n",
      "625/625 [==============================] - 3s 5ms/step - loss: 0.5481 - binary_accuracy: 0.8005 - val_loss: 0.4980 - val_binary_accuracy: 0.8202\n",
      "Epoch 3/30\n",
      "625/625 [==============================] - 3s 4ms/step - loss: 0.4451 - binary_accuracy: 0.8432 - val_loss: 0.4200 - val_binary_accuracy: 0.8474\n",
      "Epoch 4/30\n",
      "625/625 [==============================] - 3s 5ms/step - loss: 0.3786 - binary_accuracy: 0.8658 - val_loss: 0.3739 - val_binary_accuracy: 0.8594\n",
      "Epoch 5/30\n",
      "625/625 [==============================] - 3s 5ms/step - loss: 0.3351 - binary_accuracy: 0.8788 - val_loss: 0.3452 - val_binary_accuracy: 0.8676\n",
      "Epoch 6/30\n",
      "625/625 [==============================] - 3s 5ms/step - loss: 0.3048 - binary_accuracy: 0.8887 - val_loss: 0.3259 - val_binary_accuracy: 0.8712\n",
      "Epoch 7/30\n",
      "625/625 [==============================] - 3s 5ms/step - loss: 0.2817 - binary_accuracy: 0.8976 - val_loss: 0.3123 - val_binary_accuracy: 0.8738\n",
      "Epoch 8/30\n",
      "625/625 [==============================] - 3s 5ms/step - loss: 0.2628 - binary_accuracy: 0.9056 - val_loss: 0.3037 - val_binary_accuracy: 0.8760\n",
      "Epoch 9/30\n",
      "625/625 [==============================] - 3s 5ms/step - loss: 0.2455 - binary_accuracy: 0.9111 - val_loss: 0.2968 - val_binary_accuracy: 0.8786\n",
      "Epoch 10/30\n",
      "625/625 [==============================] - 3s 5ms/step - loss: 0.2315 - binary_accuracy: 0.9151 - val_loss: 0.2921 - val_binary_accuracy: 0.8804\n",
      "Epoch 11/30\n",
      "625/625 [==============================] - 3s 5ms/step - loss: 0.2182 - binary_accuracy: 0.9214 - val_loss: 0.2891 - val_binary_accuracy: 0.8802\n",
      "Epoch 12/30\n",
      "625/625 [==============================] - 3s 5ms/step - loss: 0.2072 - binary_accuracy: 0.9251 - val_loss: 0.2870 - val_binary_accuracy: 0.8818\n",
      "Epoch 13/30\n",
      "625/625 [==============================] - 3s 5ms/step - loss: 0.1968 - binary_accuracy: 0.9309 - val_loss: 0.2868 - val_binary_accuracy: 0.8816\n",
      "Epoch 14/30\n",
      "625/625 [==============================] - 3s 5ms/step - loss: 0.1866 - binary_accuracy: 0.9348 - val_loss: 0.2865 - val_binary_accuracy: 0.8818\n",
      "Epoch 15/30\n",
      "625/625 [==============================] - 3s 5ms/step - loss: 0.1779 - binary_accuracy: 0.9379 - val_loss: 0.2879 - val_binary_accuracy: 0.8806\n",
      "Epoch 16/30\n",
      "625/625 [==============================] - 3s 5ms/step - loss: 0.1692 - binary_accuracy: 0.9422 - val_loss: 0.2890 - val_binary_accuracy: 0.8832\n",
      "Epoch 17/30\n",
      "625/625 [==============================] - 3s 5ms/step - loss: 0.1619 - binary_accuracy: 0.9441 - val_loss: 0.2913 - val_binary_accuracy: 0.8818\n"
     ]
    }
   ],
   "source": [
    "model2 = tf.keras.Sequential([\n",
    "  layers.Embedding(max_features + 1, embedding_dim),\n",
    "  layers.Dropout(0.2),\n",
    "  layers.GlobalAveragePooling1D(),\n",
    "  layers.Dropout(0.2),\n",
    "  layers.Dense(1)])\n",
    "\n",
    "model2.compile(loss=losses.BinaryCrossentropy(from_logits=True),\n",
    "              optimizer='adam',\n",
    "              metrics=tf.metrics.BinaryAccuracy(threshold=0.0))\n",
    "\n",
    "# Créer une instance du rappel EarlyStopping\n",
    "# ['loss', 'binary_accuracy', 'val_loss', 'val_binary_accuracy']\n",
    "# L'entraînement s'arrêtera prématurément si la perte de validation ne s'améliore pas pendant 3 époques consécutives\n",
    "# restore_best_weights : Indique si les poids du modèle doivent être restaurés à partir de l'époque ayant la meilleure \n",
    "# valeur de la quantité surveillée\n",
    "early_stopping = callbacks.EarlyStopping(monitor='val_loss', patience=3, restore_best_weights=True)\n",
    "history2 = model2.fit(train_ds, validation_data=val_ds, epochs=30, callbacks=[early_stopping])"
   ]
  },
  {
   "cell_type": "code",
   "execution_count": 52,
   "id": "c9a7e6d2",
   "metadata": {},
   "outputs": [
    {
     "name": "stdout",
     "output_type": "stream",
     "text": [
      " 50/782 [>.............................] - ETA: 1s - loss: 0.3191 - binary_accuracy: 0.8706"
     ]
    },
    {
     "name": "stdout",
     "output_type": "stream",
     "text": [
      "782/782 [==============================] - 1s 2ms/step - loss: 0.3091 - binary_accuracy: 0.8739\n",
      "Perte:  0.3091263175010681\n",
      "Accuracy:  0.8739200234413147\n"
     ]
    }
   ],
   "source": [
    "loss2, accuracy2 = model2.evaluate(test_ds)\n",
    "\n",
    "print(\"Perte: \", loss2)\n",
    "print(\"Accuracy: \", accuracy2)"
   ]
  },
  {
   "cell_type": "markdown",
   "id": "8c0f8aea",
   "metadata": {},
   "source": [
    "## Ajoutons la couche de vectorisation pour faciliter l'exportation"
   ]
  },
  {
   "cell_type": "code",
   "execution_count": 53,
   "id": "7ec5ebc1",
   "metadata": {},
   "outputs": [
    {
     "name": "stdout",
     "output_type": "stream",
     "text": [
      "782/782 [==============================] - 8s 10ms/step - loss: 0.3099 - accuracy: 0.8732\n",
      "0.8731600046157837\n"
     ]
    }
   ],
   "source": [
    "# Nous allons ajouter la couche TextVectorization à notre modèle pour le rendre capable \n",
    "# de traiter des chaînes brutes directement.\n",
    "export_model = tf.keras.Sequential([\n",
    "  vectorize_layer,\n",
    "  model,\n",
    "  layers.Activation('sigmoid')\n",
    "])\n",
    "\n",
    "export_model.compile(loss=losses.BinaryCrossentropy(from_logits=False), optimizer=\"adam\", metrics=['accuracy'])\n",
    "\n",
    "loss3, accuracy3 = export_model.evaluate(raw_test)\n",
    "print(accuracy3)"
   ]
  },
  {
   "cell_type": "markdown",
   "id": "3380065d",
   "metadata": {},
   "source": [
    "## Inférence sur de nouvelles données"
   ]
  },
  {
   "cell_type": "code",
   "execution_count": 54,
   "id": "eeda21eb",
   "metadata": {
    "scrolled": true
   },
   "outputs": [
    {
     "name": "stdout",
     "output_type": "stream",
     "text": [
      "1/1 [==============================] - 0s 168ms/step\n"
     ]
    },
    {
     "data": {
      "text/plain": [
       "array([[0.66029084],\n",
       "       [0.4884203 ],\n",
       "       [0.40167937],\n",
       "       [0.8335075 ]], dtype=float32)"
      ]
     },
     "execution_count": 54,
     "metadata": {},
     "output_type": "execute_result"
    }
   ],
   "source": [
    "# On test le modèle sur de nouvelle données de chaine brutes\n",
    "examples = [\n",
    "  \"The movie was great! <br /> \\\"\",\n",
    "  \"The movie was okay.\",\n",
    "  \"The movie was terrible...\", \n",
    "    b'\"Pandemonium\" is a horror movie spoof that comes off more stupid than funny. Believe me when I tell you, '\n",
    "    b'I love comedies. Especially comedy spoofs. \"Airplane\", \"The Naked Gun\" trilogy, \"Blazing Saddles\", '\n",
    "    b'\"High Anxiety\", and \"Spaceballs\" are some of my favorite comedies that spoof a particular genre. '\n",
    "    b'\"Pandemonium\" is not up there with those films. Most of the scenes in this movie had me sitting '\n",
    "    b'there in stunned silence because the movie wasn\\'t all that funny. There are a few laughs in the '\n",
    "    b'film, but when you watch a comedy, you expect to laugh a lot more than a few times and that\\'s '\n",
    "    b'all this film has going for it. Geez, \"Scream\" had more laughs than this film and that was more of '\n",
    "    b'a horror film. How bizarre is that?<br /><br />*1/2 (out of four)'\n",
    "]\n",
    "\n",
    "export_model.predict(examples)"
   ]
  },
  {
   "cell_type": "markdown",
   "id": "baac2662",
   "metadata": {},
   "source": [
    "## Modification de la taille du reseau"
   ]
  },
  {
   "cell_type": "code",
   "execution_count": 55,
   "id": "89afcade",
   "metadata": {},
   "outputs": [
    {
     "name": "stdout",
     "output_type": "stream",
     "text": [
      "Epoch 1/20\n",
      "625/625 [==============================] - 10s 15ms/step - loss: 0.6252 - binary_accuracy: 0.7149 - val_loss: 0.5249 - val_binary_accuracy: 0.8018\n",
      "Epoch 2/20\n",
      "625/625 [==============================] - 10s 15ms/step - loss: 0.4352 - binary_accuracy: 0.8418 - val_loss: 0.3883 - val_binary_accuracy: 0.8534\n",
      "Epoch 3/20\n",
      "625/625 [==============================] - 10s 16ms/step - loss: 0.3369 - binary_accuracy: 0.8751 - val_loss: 0.3364 - val_binary_accuracy: 0.8670\n",
      "Epoch 4/20\n",
      "625/625 [==============================] - 10s 16ms/step - loss: 0.2877 - binary_accuracy: 0.8920 - val_loss: 0.3116 - val_binary_accuracy: 0.8738\n",
      "Epoch 5/20\n",
      "625/625 [==============================] - 10s 15ms/step - loss: 0.2547 - binary_accuracy: 0.9065 - val_loss: 0.2987 - val_binary_accuracy: 0.8782\n",
      "Epoch 6/20\n",
      "625/625 [==============================] - 10s 16ms/step - loss: 0.2300 - binary_accuracy: 0.9144 - val_loss: 0.2917 - val_binary_accuracy: 0.8802\n",
      "Epoch 7/20\n",
      "625/625 [==============================] - 9s 15ms/step - loss: 0.2098 - binary_accuracy: 0.9237 - val_loss: 0.2885 - val_binary_accuracy: 0.8810\n",
      "Epoch 8/20\n",
      "625/625 [==============================] - 10s 15ms/step - loss: 0.1930 - binary_accuracy: 0.9309 - val_loss: 0.2882 - val_binary_accuracy: 0.8814\n",
      "Epoch 9/20\n",
      "625/625 [==============================] - 10s 16ms/step - loss: 0.1783 - binary_accuracy: 0.9369 - val_loss: 0.2892 - val_binary_accuracy: 0.8814\n",
      "Epoch 10/20\n",
      "625/625 [==============================] - 10s 16ms/step - loss: 0.1644 - binary_accuracy: 0.9429 - val_loss: 0.2940 - val_binary_accuracy: 0.8818\n",
      "Epoch 11/20\n",
      "625/625 [==============================] - 10s 16ms/step - loss: 0.1527 - binary_accuracy: 0.9475 - val_loss: 0.2981 - val_binary_accuracy: 0.8816\n",
      "Epoch 12/20\n",
      "625/625 [==============================] - 10s 16ms/step - loss: 0.1408 - binary_accuracy: 0.9530 - val_loss: 0.3045 - val_binary_accuracy: 0.8806\n",
      "Epoch 13/20\n",
      "625/625 [==============================] - 10s 16ms/step - loss: 0.1307 - binary_accuracy: 0.9568 - val_loss: 0.3118 - val_binary_accuracy: 0.8808\n",
      "Epoch 14/20\n",
      "625/625 [==============================] - 10s 16ms/step - loss: 0.1223 - binary_accuracy: 0.9609 - val_loss: 0.3199 - val_binary_accuracy: 0.8806\n",
      "Epoch 15/20\n",
      "625/625 [==============================] - 10s 16ms/step - loss: 0.1141 - binary_accuracy: 0.9650 - val_loss: 0.3285 - val_binary_accuracy: 0.8794\n",
      "Epoch 16/20\n",
      "625/625 [==============================] - 10s 16ms/step - loss: 0.1061 - binary_accuracy: 0.9668 - val_loss: 0.3391 - val_binary_accuracy: 0.8788\n",
      "Epoch 17/20\n",
      "625/625 [==============================] - 10s 16ms/step - loss: 0.0984 - binary_accuracy: 0.9711 - val_loss: 0.3494 - val_binary_accuracy: 0.8796\n",
      "Epoch 18/20\n",
      "625/625 [==============================] - 10s 16ms/step - loss: 0.0913 - binary_accuracy: 0.9734 - val_loss: 0.3615 - val_binary_accuracy: 0.8784\n",
      "Epoch 19/20\n",
      "625/625 [==============================] - 10s 16ms/step - loss: 0.0851 - binary_accuracy: 0.9761 - val_loss: 0.3734 - val_binary_accuracy: 0.8772\n",
      "Epoch 20/20\n",
      "625/625 [==============================] - 10s 16ms/step - loss: 0.0796 - binary_accuracy: 0.9775 - val_loss: 0.3876 - val_binary_accuracy: 0.8758\n",
      "On remarque que le temps d'exécution est beaucoup long avec l'augementation de la dimension de la representation vectorielle dense des mots.\n"
     ]
    }
   ],
   "source": [
    "embedding_dim = 64 \n",
    "model = tf.keras.Sequential([\n",
    "  layers.Embedding(max_features + 1, embedding_dim), \n",
    "  layers.Dropout(0.2),\n",
    "  layers.GlobalAveragePooling1D(), \n",
    "  layers.Dropout(0.3),\n",
    "  layers.Dense(1)])\n",
    "\n",
    "model.compile(loss=losses.BinaryCrossentropy(from_logits=True),\n",
    "              optimizer='adam',\n",
    "              metrics=tf.metrics.BinaryAccuracy(threshold=0.0))\n",
    "model.fit(train_ds, validation_data=val_ds, epochs=20)\n",
    "\n",
    "print(\"On remarque que le temps d'exécution est beaucoup long avec l'augementation de la dimension \"\n",
    "      \"de la representation vectorielle dense des mots.\")"
   ]
  },
  {
   "cell_type": "code",
   "execution_count": 56,
   "id": "4d4c53c0",
   "metadata": {},
   "outputs": [
    {
     "name": "stdout",
     "output_type": "stream",
     "text": [
      "Epoch 1/20\n"
     ]
    },
    {
     "name": "stdout",
     "output_type": "stream",
     "text": [
      "625/625 [==============================] - 3s 4ms/step - loss: 0.6867 - binary_accuracy: 0.6359 - val_loss: 0.6767 - val_binary_accuracy: 0.7534\n",
      "Epoch 2/20\n",
      "625/625 [==============================] - 2s 4ms/step - loss: 0.6603 - binary_accuracy: 0.7230 - val_loss: 0.6439 - val_binary_accuracy: 0.7680\n",
      "Epoch 3/20\n",
      "625/625 [==============================] - 2s 4ms/step - loss: 0.6242 - binary_accuracy: 0.7530 - val_loss: 0.6058 - val_binary_accuracy: 0.7904\n",
      "Epoch 4/20\n",
      "625/625 [==============================] - 2s 4ms/step - loss: 0.5857 - binary_accuracy: 0.7654 - val_loss: 0.5680 - val_binary_accuracy: 0.8084\n",
      "Epoch 5/20\n",
      "625/625 [==============================] - 2s 4ms/step - loss: 0.5498 - binary_accuracy: 0.7899 - val_loss: 0.5327 - val_binary_accuracy: 0.8212\n",
      "Epoch 6/20\n",
      "625/625 [==============================] - 2s 4ms/step - loss: 0.5185 - binary_accuracy: 0.8011 - val_loss: 0.5015 - val_binary_accuracy: 0.8292\n",
      "Epoch 7/20\n",
      "625/625 [==============================] - 2s 4ms/step - loss: 0.4901 - binary_accuracy: 0.8126 - val_loss: 0.4731 - val_binary_accuracy: 0.8404\n",
      "Epoch 8/20\n",
      "625/625 [==============================] - 2s 4ms/step - loss: 0.4674 - binary_accuracy: 0.8184 - val_loss: 0.4495 - val_binary_accuracy: 0.8456\n",
      "Epoch 9/20\n",
      "625/625 [==============================] - 2s 4ms/step - loss: 0.4473 - binary_accuracy: 0.8238 - val_loss: 0.4292 - val_binary_accuracy: 0.8502\n",
      "Epoch 10/20\n",
      "625/625 [==============================] - 2s 4ms/step - loss: 0.4263 - binary_accuracy: 0.8288 - val_loss: 0.4107 - val_binary_accuracy: 0.8564\n",
      "Epoch 11/20\n",
      "625/625 [==============================] - 2s 4ms/step - loss: 0.4137 - binary_accuracy: 0.8329 - val_loss: 0.3951 - val_binary_accuracy: 0.8598\n",
      "Epoch 12/20\n",
      "625/625 [==============================] - 2s 4ms/step - loss: 0.3999 - binary_accuracy: 0.8372 - val_loss: 0.3815 - val_binary_accuracy: 0.8628\n",
      "Epoch 13/20\n",
      "625/625 [==============================] - 2s 4ms/step - loss: 0.3848 - binary_accuracy: 0.8398 - val_loss: 0.3695 - val_binary_accuracy: 0.8646\n",
      "Epoch 14/20\n",
      "625/625 [==============================] - 2s 4ms/step - loss: 0.3731 - binary_accuracy: 0.8444 - val_loss: 0.3589 - val_binary_accuracy: 0.8658\n",
      "Epoch 15/20\n",
      "625/625 [==============================] - 2s 4ms/step - loss: 0.3665 - binary_accuracy: 0.8469 - val_loss: 0.3495 - val_binary_accuracy: 0.8692\n",
      "Epoch 16/20\n",
      "625/625 [==============================] - 2s 4ms/step - loss: 0.3524 - binary_accuracy: 0.8511 - val_loss: 0.3414 - val_binary_accuracy: 0.8706\n",
      "Epoch 17/20\n",
      "625/625 [==============================] - 2s 4ms/step - loss: 0.3473 - binary_accuracy: 0.8535 - val_loss: 0.3341 - val_binary_accuracy: 0.8714\n",
      "Epoch 18/20\n",
      "625/625 [==============================] - 2s 4ms/step - loss: 0.3384 - binary_accuracy: 0.8582 - val_loss: 0.3276 - val_binary_accuracy: 0.8722\n",
      "Epoch 19/20\n",
      "625/625 [==============================] - 2s 4ms/step - loss: 0.3338 - binary_accuracy: 0.8551 - val_loss: 0.3222 - val_binary_accuracy: 0.8736\n",
      "Epoch 20/20\n",
      "625/625 [==============================] - 2s 4ms/step - loss: 0.3263 - binary_accuracy: 0.8603 - val_loss: 0.3172 - val_binary_accuracy: 0.8736\n",
      "On remarque que le temps d'exécution est beaucoup très rapide avec la dimunition de la dimension de la representation vectorielle dense des mots.\n"
     ]
    }
   ],
   "source": [
    "embedding_dim = 2\n",
    "model = tf.keras.Sequential([\n",
    "  layers.Embedding(max_features + 1, embedding_dim),\n",
    "  layers.Dropout(0.2),\n",
    "  layers.GlobalAveragePooling1D(), \n",
    "  layers.Dropout(0.3),\n",
    "  layers.Dense(1)])\n",
    "\n",
    "epochs=20\n",
    "model.compile(loss=losses.BinaryCrossentropy(from_logits=True),\n",
    "              optimizer='adam',\n",
    "              metrics=tf.metrics.BinaryAccuracy(threshold=0.0))\n",
    "\n",
    "model.fit(train_ds, validation_data=val_ds, epochs=20)\n",
    "\n",
    "print(\"On remarque que le temps d'exécution est beaucoup très rapide avec la dimunition de la dimension \"\n",
    "      \"de la representation vectorielle dense des mots.\")"
   ]
  },
  {
   "cell_type": "markdown",
   "id": "e16295c6",
   "metadata": {},
   "source": [
    "## Modifions les paramètres pour montrer le surapprentissage"
   ]
  },
  {
   "cell_type": "code",
   "execution_count": 57,
   "id": "f831ddf6",
   "metadata": {},
   "outputs": [
    {
     "name": "stdout",
     "output_type": "stream",
     "text": [
      "Epoch 1/20\n"
     ]
    },
    {
     "name": "stdout",
     "output_type": "stream",
     "text": [
      "625/625 [==============================] - 7s 10ms/step - loss: 0.6070 - binary_accuracy: 0.7290 - val_loss: 0.4901 - val_binary_accuracy: 0.8138\n",
      "Epoch 2/20\n",
      "625/625 [==============================] - 6s 10ms/step - loss: 0.4004 - binary_accuracy: 0.8528 - val_loss: 0.3634 - val_binary_accuracy: 0.8610\n",
      "Epoch 3/20\n",
      "625/625 [==============================] - 7s 11ms/step - loss: 0.3095 - binary_accuracy: 0.8849 - val_loss: 0.3202 - val_binary_accuracy: 0.8726\n",
      "Epoch 4/20\n",
      "625/625 [==============================] - 6s 10ms/step - loss: 0.2628 - binary_accuracy: 0.9022 - val_loss: 0.3008 - val_binary_accuracy: 0.8784\n",
      "Epoch 5/20\n",
      "625/625 [==============================] - 7s 11ms/step - loss: 0.2309 - binary_accuracy: 0.9153 - val_loss: 0.2917 - val_binary_accuracy: 0.8808\n",
      "Epoch 6/20\n",
      "625/625 [==============================] - 7s 11ms/step - loss: 0.2062 - binary_accuracy: 0.9244 - val_loss: 0.2884 - val_binary_accuracy: 0.8810\n",
      "Epoch 7/20\n",
      "625/625 [==============================] - 6s 10ms/step - loss: 0.1859 - binary_accuracy: 0.9338 - val_loss: 0.2890 - val_binary_accuracy: 0.8802\n",
      "Epoch 8/20\n",
      "625/625 [==============================] - 7s 11ms/step - loss: 0.1684 - binary_accuracy: 0.9423 - val_loss: 0.2924 - val_binary_accuracy: 0.8810\n",
      "Epoch 9/20\n",
      "625/625 [==============================] - 6s 10ms/step - loss: 0.1531 - binary_accuracy: 0.9478 - val_loss: 0.2980 - val_binary_accuracy: 0.8808\n",
      "Epoch 10/20\n",
      "625/625 [==============================] - 7s 10ms/step - loss: 0.1394 - binary_accuracy: 0.9543 - val_loss: 0.3056 - val_binary_accuracy: 0.8800\n",
      "Epoch 11/20\n",
      "625/625 [==============================] - 7s 10ms/step - loss: 0.1271 - binary_accuracy: 0.9590 - val_loss: 0.3148 - val_binary_accuracy: 0.8804\n",
      "Epoch 12/20\n",
      "625/625 [==============================] - 6s 10ms/step - loss: 0.1158 - binary_accuracy: 0.9631 - val_loss: 0.3256 - val_binary_accuracy: 0.8800\n",
      "Epoch 13/20\n",
      "625/625 [==============================] - 7s 11ms/step - loss: 0.1056 - binary_accuracy: 0.9680 - val_loss: 0.3379 - val_binary_accuracy: 0.8780\n",
      "Epoch 14/20\n",
      "625/625 [==============================] - 6s 10ms/step - loss: 0.0961 - binary_accuracy: 0.9719 - val_loss: 0.3515 - val_binary_accuracy: 0.8764\n",
      "Epoch 15/20\n",
      "625/625 [==============================] - 7s 11ms/step - loss: 0.0875 - binary_accuracy: 0.9755 - val_loss: 0.3664 - val_binary_accuracy: 0.8764\n",
      "Epoch 16/20\n",
      "625/625 [==============================] - 7s 11ms/step - loss: 0.0795 - binary_accuracy: 0.9785 - val_loss: 0.3825 - val_binary_accuracy: 0.8762\n",
      "Epoch 17/20\n",
      "625/625 [==============================] - 7s 11ms/step - loss: 0.0721 - binary_accuracy: 0.9814 - val_loss: 0.3997 - val_binary_accuracy: 0.8748\n",
      "Epoch 18/20\n",
      "625/625 [==============================] - 7s 11ms/step - loss: 0.0653 - binary_accuracy: 0.9837 - val_loss: 0.4180 - val_binary_accuracy: 0.8732\n",
      "Epoch 19/20\n",
      "625/625 [==============================] - 6s 10ms/step - loss: 0.0590 - binary_accuracy: 0.9863 - val_loss: 0.4373 - val_binary_accuracy: 0.8724\n",
      "Epoch 20/20\n",
      "625/625 [==============================] - 7s 11ms/step - loss: 0.0532 - binary_accuracy: 0.9879 - val_loss: 0.4576 - val_binary_accuracy: 0.8714\n"
     ]
    }
   ],
   "source": [
    "embedding_dim = 64 \n",
    "model3 = tf.keras.Sequential([\n",
    "  layers.Embedding(max_features + 1, embedding_dim),\n",
    "#   layers.Dropout(0.2),\n",
    "  layers.GlobalAveragePooling1D(),\n",
    "#   layers.Dropout(0.1),\n",
    "  layers.Dense(1)])\n",
    "\n",
    "epochs=20\n",
    "model3.compile(loss=losses.BinaryCrossentropy(from_logits=True),\n",
    "              optimizer='adam',\n",
    "              metrics=tf.metrics.BinaryAccuracy(threshold=0.0))\n",
    "history3 = model3.fit(train_ds, validation_data=val_ds, epochs=epochs)"
   ]
  },
  {
   "cell_type": "code",
   "execution_count": 58,
   "id": "65a7c22f",
   "metadata": {},
   "outputs": [
    {
     "data": {
      "text/plain": [
       "dict_keys(['loss', 'binary_accuracy', 'val_loss', 'val_binary_accuracy'])"
      ]
     },
     "execution_count": 58,
     "metadata": {},
     "output_type": "execute_result"
    }
   ],
   "source": [
    "_epochs3 = range(1, epochs + 1)\n",
    "history3_dict = history3.history\n",
    "history3_dict.keys()"
   ]
  },
  {
   "cell_type": "code",
   "execution_count": 59,
   "id": "26d7718c",
   "metadata": {},
   "outputs": [
    {
     "data": {
      "image/png": "[encoded data removed]",
      "text/plain": [
       "<Figure size 640x480 with 1 Axes>"
      ]
     },
     "metadata": {},
     "output_type": "display_data"
    }
   ],
   "source": [
    "plt.plot(_epochs3, history3_dict['loss'], 'bo', label=\"Perte d'apprentissage\")\n",
    "plt.plot(_epochs3, history3_dict['val_loss'], 'b', label='Perte de validation')\n",
    "plt.title('Perte de formation et de validation')\n",
    "plt.xlabel('Epoque')\n",
    "plt.ylabel('Perte')\n",
    "plt.legend()\n",
    "plt.show()"
   ]
  },
  {
   "cell_type": "code",
   "execution_count": 60,
   "id": "501c6993",
   "metadata": {},
   "outputs": [
    {
     "data": {
      "image/png": "[encoded data removed]",
      "text/plain": [
       "<Figure size 640x480 with 1 Axes>"
      ]
     },
     "metadata": {},
     "output_type": "display_data"
    }
   ],
   "source": [
    "plt.plot(_epochs3, history3_dict['binary_accuracy'], 'bo', label=\"Accuracy d'apprentissage\")\n",
    "plt.plot(_epochs3, history3_dict['val_binary_accuracy' ], 'b', label='Accuracy de validation')\n",
    "plt.title('Accuracy de formation et de validation')\n",
    "plt.xlabel('Epoque')\n",
    "plt.ylabel('Accuracy')\n",
    "plt.legend()\n",
    "\n",
    "plt.show()"
   ]
  },
  {
   "cell_type": "markdown",
   "id": "aa98c6a2",
   "metadata": {},
   "source": [
    "On observe un surapprentissage du modèle. Nous avons supprimé les couches de dropout et augmenté la taille de dimension du vecteur représentant les mots du vocabulaire."
   ]
  },
  {
   "cell_type": "code",
   "execution_count": null,
   "id": "f46f7483",
   "metadata": {},
   "outputs": [],
   "source": []
  }
 ],
 "metadata": {
  "kernelspec": {
   "display_name": "Python 3 (ipykernel)",
   "language": "python",
   "name": "python3"
  },
  "language_info": {
   "codemirror_mode": {
    "name": "ipython",
    "version": 3
   },
   "file_extension": ".py",
   "mimetype": "text/x-python",
   "name": "python",
   "nbconvert_exporter": "python",
   "pygments_lexer": "ipython3",
   "version": "3.11.4"
  }
 },
 "nbformat": 4,
 "nbformat_minor": 5
}
